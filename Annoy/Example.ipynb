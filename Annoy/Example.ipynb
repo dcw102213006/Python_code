{
 "cells": [
  {
   "cell_type": "markdown",
   "metadata": {},
   "source": [
    "### Install Annoy\n",
    "To install, simply do pip install --user annoy to pull down the latest version from PyPI."
   ]
  },
  {
   "cell_type": "code",
   "execution_count": 2,
   "metadata": {},
   "outputs": [],
   "source": [
    "from annoy import AnnoyIndex\n",
    "import random"
   ]
  },
  {
   "cell_type": "code",
   "execution_count": 3,
   "metadata": {},
   "outputs": [
    {
     "data": {
      "text/plain": [
       "True"
      ]
     },
     "execution_count": 3,
     "metadata": {},
     "output_type": "execute_result"
    }
   ],
   "source": [
    "\n",
    "\n",
    "f = 40\n",
    "t = AnnoyIndex(f,'angular')  # Length of item vector that will be indexed\n",
    "for i in range(1000):\n",
    "    v = [random.gauss(0, 1) for z in range(f)]\n",
    "    t.add_item(i, v)\n",
    "\n",
    "t.build(10) # 10 trees\n",
    "t.save('test4_angular.ann')\n",
    "\n",
    "# ...\n",
    "\n"
   ]
  },
  {
   "cell_type": "markdown",
   "metadata": {},
   "source": [
    "#### 現在有1000個40維的點\n"
   ]
  },
  {
   "cell_type": "code",
   "execution_count": 4,
   "metadata": {},
   "outputs": [
    {
     "name": "stdout",
     "output_type": "stream",
     "text": [
      "[0, 919, 588, 92, 79, 760, 852, 118, 789, 402]\n"
     ]
    }
   ],
   "source": [
    "f = 40\n",
    "u = AnnoyIndex(f,'angular')\n",
    "u.load('test4_angular.ann') # super fast, will just mmap the file\n",
    "print(u.get_nns_by_item(0, 10)) # will find the 10 nearest neighbors"
   ]
  },
  {
   "cell_type": "code",
   "execution_count": 5,
   "metadata": {},
   "outputs": [
    {
     "data": {
      "text/plain": [
       "[0, 919, 588, 92, 79, 760, 852, 118, 789, 402]"
      ]
     },
     "execution_count": 5,
     "metadata": {},
     "output_type": "execute_result"
    }
   ],
   "source": [
    "# 第一個點的最近鄰的索引:用索引找\n",
    "u.get_nns_by_item(0, 10) # will find the 10 nearest neighbors"
   ]
  },
  {
   "cell_type": "code",
   "execution_count": 6,
   "metadata": {},
   "outputs": [
    {
     "data": {
      "text/plain": [
       "[0, 919, 588, 92, 79, 760, 852, 118, 789, 402]"
      ]
     },
     "execution_count": 6,
     "metadata": {},
     "output_type": "execute_result"
    }
   ],
   "source": [
    "# 第一個點的最近鄰的索引:用向量找\n",
    "v=u.get_item_vector(0)\n",
    "u.get_nns_by_vector(v,10)"
   ]
  },
  {
   "cell_type": "code",
   "execution_count": 8,
   "metadata": {},
   "outputs": [
    {
     "data": {
      "text/plain": [
       "[0, 919, 588, 92, 79, 760, 852, 118, 789, 402]"
      ]
     },
     "execution_count": 8,
     "metadata": {},
     "output_type": "execute_result"
    }
   ],
   "source": [
    "u.get_nns_by_item(0, 10) # will find the 10 nearest neighbors"
   ]
  },
  {
   "cell_type": "markdown",
   "metadata": {},
   "source": [
    "### Full Python API\n",
    "\n",
    "<ul>\n",
    "<li><code>AnnoyIndex(f, metric)</code> returns a new index that's read-write and stores vector of <code>f</code> dimensions. Metric can be <code>\"angular\"</code>, <code>\"euclidean\"</code>, <code>\"manhattan\"</code>, <code>\"hamming\"</code>, or <code>\"dot\"</code>.</li>\n",
    "<li><code>a.add_item(i, v)</code> adds item <code>i</code> (any nonnegative integer) with vector <code>v</code>. Note that it will allocate memory for <code>max(i)+1</code> items.</li>\n",
    "<li><code>a.build(n_trees)</code> builds a forest of <code>n_trees</code> trees. More trees gives higher precision when querying. After calling <code>build</code>, no more items can be added.</li>\n",
    "<li><code>a.save(fn, prefault=False)</code> saves the index to disk and loads it (see next function). After saving, no more items can be added.</li>\n",
    "<li><code>a.load(fn, prefault=False)</code> loads (mmaps) an index from disk. If prefault is set to True, it will pre-read the entire file into memory (using mmap with MAP_POPULATE). Default is False.</li>\n",
    "<li><code>a.unload()</code> unloads.</li>\n",
    "<li><code>a.get_nns_by_item(i, n, search_k=-1, include_distances=False)</code> returns the <code>n</code> closest items. During the query it will inspect up to <code>search_k</code> nodes which defaults to <code>n_trees * n</code> if not provided. <code>search_k</code> gives you a run-time tradeoff between better accuracy and speed. If you set <code>include_distances</code> to <code>True</code>, it will return a 2 element tuple with two lists in it: the second one containing all corresponding distances.</li>\n",
    "<li><code>a.get_nns_by_vector(v, n, search_k=-1, include_distances=False)</code> same but query by vector <code>v</code>.</li>\n",
    "<li><code>a.get_item_vector(i)</code> returns the vector for item <code>i</code> that was previously added.</li>\n",
    "<li><code>a.get_distance(i, j)</code> returns the distance between items <code>i</code> and <code>j</code>. NOTE: this used to return the <em>squared</em> distance, but has been changed as of Aug 2016.</li>\n",
    "<li><code>a.get_n_items()</code> returns the number of items in the index.</li>\n",
    "<li><code>a.get_n_trees()</code> returns the number of trees in the index.</li>\n",
    "<li><code>a.on_disk_build(fn)</code> prepares annoy to build the index in the specified file instead of RAM (execute before adding items, no need to save after build)</li>\n",
    "<li><code>a.set_seed(seed)</code> will initialize the random number generator with the given seed.  Only used for building up the tree, i. e. only necessary to pass this before adding the items.  Will have no effect after calling a.build(n_trees) or a.load(fn).</li>\n",
    "</ul>\n",
    "<p>Notes:</p>\n",
    "<ul>\n",
    "<li>There's no bounds checking performed on the values so be careful.</li>\n",
    "<li>Annoy uses Euclidean distance of normalized vectors for its angular distance, which for two vectors u,v is equal to <code>sqrt(2(1-cos(u,v)))</code></li>\n",
    "</ul>\n"
   ]
  },
  {
   "cell_type": "markdown",
   "metadata": {},
   "source": [
    "####  Angular distance:\n",
    "Annoy用sqrt(2(1-cos_sim(u,v)))作為Angular distance    \n",
    "cosine_sim的值域[-1,1]  \n",
    "Angular distance(A_D)落在[0,2]   \n",
    "這邊我假設:\n",
    "Angular similarity:1-A_D/2\n"
   ]
  },
  {
   "cell_type": "code",
   "execution_count": 113,
   "metadata": {},
   "outputs": [
    {
     "name": "stdout",
     "output_type": "stream",
     "text": [
      "cos_sim: 0.4543499348601068\n",
      "angular_d: 1.044653114808828\n",
      "Annoy_angular_d: 1.0446531772613525\n"
     ]
    }
   ],
   "source": [
    "from scipy import spatial\n",
    "import math\n",
    "id0=u.get_item_vector(0)\n",
    "id1=u.get_item_vector(139)\n",
    "\n",
    "cos_sim = 1 - spatial.distance.cosine(id0, id1)\n",
    "angular_d=math.sqrt(2*(1-cos_sim))\n",
    "print('cos_sim:',cos_sim)\n",
    "print('angular_d:',angular_d)\n",
    "print('Annoy_angular_d:',u.get_distance(0,139))"
   ]
  },
  {
   "cell_type": "markdown",
   "metadata": {},
   "source": [
    "### id和distance存在dictionary的方式 "
   ]
  },
  {
   "cell_type": "code",
   "execution_count": 9,
   "metadata": {},
   "outputs": [],
   "source": [
    "result=u.get_nns_by_item(0, 10, include_distances=True)"
   ]
  },
  {
   "cell_type": "code",
   "execution_count": 10,
   "metadata": {},
   "outputs": [
    {
     "data": {
      "text/plain": [
       "[1.022614598274231, 1.0473228693008423, 1.0828430652618408, 1.0877268314361572]"
      ]
     },
     "execution_count": 10,
     "metadata": {},
     "output_type": "execute_result"
    }
   ],
   "source": [
    "result[1][1:5]"
   ]
  },
  {
   "cell_type": "code",
   "execution_count": 11,
   "metadata": {},
   "outputs": [],
   "source": [
    "bag=[]\n",
    "for row in zip(result[0],result[1]):\n",
    "    bag.append(\n",
    "        {\n",
    "            'id':row[0],\n",
    "            'Similarity':row[1]\n",
    "        }\n",
    "        \n",
    "    )"
   ]
  },
  {
   "cell_type": "code",
   "execution_count": 12,
   "metadata": {},
   "outputs": [
    {
     "data": {
      "text/plain": [
       "[{'id': 0, 'Similarity': 0.0},\n",
       " {'id': 919, 'Similarity': 1.022614598274231},\n",
       " {'id': 588, 'Similarity': 1.0473228693008423},\n",
       " {'id': 92, 'Similarity': 1.0828430652618408},\n",
       " {'id': 79, 'Similarity': 1.0877268314361572},\n",
       " {'id': 760, 'Similarity': 1.1008208990097046},\n",
       " {'id': 852, 'Similarity': 1.1060607433319092},\n",
       " {'id': 118, 'Similarity': 1.1178791522979736},\n",
       " {'id': 789, 'Similarity': 1.1275181770324707},\n",
       " {'id': 402, 'Similarity': 1.1500883102416992}]"
      ]
     },
     "execution_count": 12,
     "metadata": {},
     "output_type": "execute_result"
    }
   ],
   "source": [
    "bag"
   ]
  }
 ],
 "metadata": {
  "kernelspec": {
   "display_name": "Python 3",
   "language": "python",
   "name": "python3"
  },
  "language_info": {
   "codemirror_mode": {
    "name": "ipython",
    "version": 3
   },
   "file_extension": ".py",
   "mimetype": "text/x-python",
   "name": "python",
   "nbconvert_exporter": "python",
   "pygments_lexer": "ipython3",
   "version": "3.7.6"
  }
 },
 "nbformat": 4,
 "nbformat_minor": 4
}
