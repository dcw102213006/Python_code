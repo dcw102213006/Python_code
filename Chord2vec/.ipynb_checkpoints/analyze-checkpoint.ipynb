{
 "cells": [
  {
   "cell_type": "code",
   "execution_count": 2,
   "metadata": {},
   "outputs": [],
   "source": [
    "import tensorflow as tf\n",
    "import numpy as np\n",
    "import pickle\n",
    "import os"
   ]
  },
  {
   "cell_type": "code",
   "execution_count": 3,
   "metadata": {
    "collapsed": true
   },
   "outputs": [],
   "source": [
    "# loads the embeddings variable from the tensorflow checkpoint\n",
    "def load_embeddings():\n",
    "    with tf.Session() as session:\n",
    "        if os.listdir('./data/processed/'):\n",
    "            saver = tf.train.import_meta_graph('./data/processed/model.ckpt-1.meta')\n",
    "            saver.restore(session, tf.train.latest_checkpoint('./data/processed/'))\n",
    "            return session.run('embedding:0')"
   ]
  },
  {
   "cell_type": "code",
   "execution_count": 4,
   "metadata": {
    "collapsed": true
   },
   "outputs": [],
   "source": [
    "def get_vocabulary(path):\n",
    "    \"\"\"Get all the information about the vocabulary from file. \"\"\"\n",
    "    vocabulary_path = os.path.join(path, 'vocabulary')\n",
    "    with open(vocabulary_path, 'r') as f:\n",
    "        vocabulary_size = int(f.readline())\n",
    "        count = []\n",
    "        dictionary = dict()\n",
    "        reverse_dictionary = []\n",
    "        for i, line in enumerate(f):\n",
    "                word, n = line.split()\n",
    "                count.append((word, n))\n",
    "                dictionary[word] = i\n",
    "                reverse_dictionary.append(word)\n",
    "    return vocabulary_size, count, dictionary, reverse_dictionary"
   ]
  },
  {
   "cell_type": "code",
   "execution_count": 5,
   "metadata": {
    "collapsed": true
   },
   "outputs": [],
   "source": [
    "def closest(x, take=6):\n",
    "    z = np.sum(np.square(x - embeddings), axis=1)\n",
    "    return np.argsort(z)[:take]"
   ]
  },
  {
   "cell_type": "code",
   "execution_count": 6,
   "metadata": {
    "collapsed": true
   },
   "outputs": [],
   "source": [
    "def closest_by_name(chord):\n",
    "    indices = closest(embeddings[dictionary[chord]])\n",
    "    chords = []\n",
    "    for i in indices:\n",
    "        chords.append(reverse_dictionary[i])\n",
    "    return chords"
   ]
  },
  {
   "cell_type": "code",
   "execution_count": 7,
   "metadata": {
    "collapsed": true
   },
   "outputs": [],
   "source": [
    "def compare(a, b, c):\n",
    "    x1 = embeddings[dictionary[a]]\n",
    "    y1 = embeddings[dictionary[b]]\n",
    "    y2 = embeddings[dictionary[c]]\n",
    "    # x1 - y1 = x2 - y2\n",
    "    # or\n",
    "    # x1 - y1 + y2 = x2\n",
    "    # a - b + c\n",
    "    indices = closest(x1-y1+y2)\n",
    "    \n",
    "    chords = []\n",
    "    for i in indices:\n",
    "        chords.append(reverse_dictionary[i])\n",
    "    return chords    "
   ]
  },
  {
   "cell_type": "code",
   "execution_count": 8,
   "metadata": {},
   "outputs": [
    {
     "ename": "FileNotFoundError",
     "evalue": "[WinError 3] 系統找不到指定的路徑。: './data/processed/'",
     "output_type": "error",
     "traceback": [
      "\u001b[1;31m---------------------------------------------------------------------------\u001b[0m",
      "\u001b[1;31mFileNotFoundError\u001b[0m                         Traceback (most recent call last)",
      "\u001b[1;32m<ipython-input-8-0e39d85034ab>\u001b[0m in \u001b[0;36m<module>\u001b[1;34m()\u001b[0m\n\u001b[1;32m----> 1\u001b[1;33m \u001b[0membeddings\u001b[0m \u001b[1;33m=\u001b[0m \u001b[0mload_embeddings\u001b[0m\u001b[1;33m(\u001b[0m\u001b[1;33m)\u001b[0m\u001b[1;33m\u001b[0m\u001b[0m\n\u001b[0m",
      "\u001b[1;32m<ipython-input-3-6d760a6ee442>\u001b[0m in \u001b[0;36mload_embeddings\u001b[1;34m()\u001b[0m\n\u001b[0;32m      2\u001b[0m \u001b[1;32mdef\u001b[0m \u001b[0mload_embeddings\u001b[0m\u001b[1;33m(\u001b[0m\u001b[1;33m)\u001b[0m\u001b[1;33m:\u001b[0m\u001b[1;33m\u001b[0m\u001b[0m\n\u001b[0;32m      3\u001b[0m     \u001b[1;32mwith\u001b[0m \u001b[0mtf\u001b[0m\u001b[1;33m.\u001b[0m\u001b[0mSession\u001b[0m\u001b[1;33m(\u001b[0m\u001b[1;33m)\u001b[0m \u001b[1;32mas\u001b[0m \u001b[0msession\u001b[0m\u001b[1;33m:\u001b[0m\u001b[1;33m\u001b[0m\u001b[0m\n\u001b[1;32m----> 4\u001b[1;33m         \u001b[1;32mif\u001b[0m \u001b[0mos\u001b[0m\u001b[1;33m.\u001b[0m\u001b[0mlistdir\u001b[0m\u001b[1;33m(\u001b[0m\u001b[1;34m'./data/processed/'\u001b[0m\u001b[1;33m)\u001b[0m\u001b[1;33m:\u001b[0m\u001b[1;33m\u001b[0m\u001b[0m\n\u001b[0m\u001b[0;32m      5\u001b[0m             \u001b[0msaver\u001b[0m \u001b[1;33m=\u001b[0m \u001b[0mtf\u001b[0m\u001b[1;33m.\u001b[0m\u001b[0mtrain\u001b[0m\u001b[1;33m.\u001b[0m\u001b[0mimport_meta_graph\u001b[0m\u001b[1;33m(\u001b[0m\u001b[1;34m'./data/processed/model.ckpt-1.meta'\u001b[0m\u001b[1;33m)\u001b[0m\u001b[1;33m\u001b[0m\u001b[0m\n\u001b[0;32m      6\u001b[0m             \u001b[0msaver\u001b[0m\u001b[1;33m.\u001b[0m\u001b[0mrestore\u001b[0m\u001b[1;33m(\u001b[0m\u001b[0msession\u001b[0m\u001b[1;33m,\u001b[0m \u001b[0mtf\u001b[0m\u001b[1;33m.\u001b[0m\u001b[0mtrain\u001b[0m\u001b[1;33m.\u001b[0m\u001b[0mlatest_checkpoint\u001b[0m\u001b[1;33m(\u001b[0m\u001b[1;34m'./data/processed/'\u001b[0m\u001b[1;33m)\u001b[0m\u001b[1;33m)\u001b[0m\u001b[1;33m\u001b[0m\u001b[0m\n",
      "\u001b[1;31mFileNotFoundError\u001b[0m: [WinError 3] 系統找不到指定的路徑。: './data/processed/'"
     ]
    }
   ],
   "source": [
    "embeddings = load_embeddings()"
   ]
  },
  {
   "cell_type": "code",
   "execution_count": 25,
   "metadata": {
    "collapsed": true
   },
   "outputs": [],
   "source": [
    "vocabulary_size, count, dictionary, reverse_dictionary = get_vocabulary('data')"
   ]
  },
  {
   "cell_type": "code",
   "execution_count": 45,
   "metadata": {},
   "outputs": [
    {
     "name": "stdout",
     "output_type": "stream",
     "text": [
      "most common chords are\n",
      "D : 451636\n",
      "G : 439790\n",
      "A : 424825\n",
      "C : 392893\n",
      "E : 385333\n",
      "F : 321387\n",
      "B : 312544\n",
      "Bb : 265405\n",
      "Gb : 257890\n",
      "Db : 235705\n",
      "Eb : 235000\n",
      "Ab : 229604\n",
      "EG : 155932\n",
      "CE : 147353\n",
      "CA : 143931\n",
      "DF : 138334\n",
      "DB : 136625\n",
      "GB : 130326\n",
      "CEG : 128759\n",
      "FA : 125667\n",
      "DGB : 122194\n",
      "GbA : 119192\n",
      "DG : 117815\n",
      "DGbA : 116855\n",
      "DA : 116160\n"
     ]
    }
   ],
   "source": [
    "print('most common chords are')\n",
    "for chord, n in count[1:26]:\n",
    "    print(chord, ':', n)"
   ]
  },
  {
   "cell_type": "code",
   "execution_count": 46,
   "metadata": {},
   "outputs": [
    {
     "name": "stdout",
     "output_type": "stream",
     "text": [
      "closest to D : ['DBb', 'Eb', 'DG', 'DGb', 'Db']\n",
      "closest to G : ['B', 'E', 'GB', 'CG', 'DG']\n",
      "closest to A : ['DbA', 'Db', 'EA', 'DA', 'B']\n",
      "closest to C : ['CG', 'CBb', 'CE', 'CD', 'CF']\n",
      "closest to E : ['G', 'Db', 'EG', 'EB', 'C']\n",
      "closest to F : ['FBb', 'FAb', 'DF', 'Eb', 'Bb']\n",
      "closest to B : ['G', 'DB', 'Ab', 'DbB', 'Db']\n",
      "closest to Bb : ['EbBb', 'Ab', 'F', 'Eb', 'EbG']\n",
      "closest to Gb : ['DGb', 'GbB', 'G', 'DGbA', 'CGb']\n",
      "closest to Db : ['DbA', 'E', 'DbG', 'B', 'A']\n",
      "closest to Eb : ['EbG', 'F', 'Bb', 'EbA', 'CEb']\n",
      "closest to Ab : ['DAb', 'Bb', 'CAb', 'F', 'AbB']\n",
      "closest to EG : ['EGB', 'CEG', 'EB', 'CE', 'E']\n",
      "closest to CE : ['CEG', 'C', 'CG', 'CEF', 'EG']\n",
      "closest to CA : ['C', 'CFA', 'CGbA', 'CF', 'CGA']\n",
      "closest to DF : ['F', 'FBb', 'DFBb', 'Eb', 'Bb']\n",
      "closest to DB : ['B', 'DGB', 'DFB', 'DEB', 'GB']\n",
      "closest to GB : ['EGB', 'G', 'B', 'DGB', 'DB']\n",
      "closest to CEG : ['CE', 'CG', 'EG', 'C', 'CEBb']\n",
      "closest to FA : ['DFA', 'F', 'EFA', 'DF', 'CFA']\n",
      "closest to DGB : ['DB', 'GB', 'DEGB', 'DG', 'G']\n",
      "closest to GbA : ['DGbA', 'CGbA', 'Gb', 'DGb', 'GbB']\n",
      "closest to DG : ['G', 'DGbG', 'CDG', 'DBb', 'DGB']\n",
      "closest to DGbA : ['DGb', 'DA', 'GbA', 'DEGbA', 'Gb']\n",
      "closest to DA : ['DGbA', 'A', 'CDA', 'DFA', 'DAbA']\n",
      "closest to DGb : ['Gb', 'DGbA', 'DGbG', 'DGbB', 'GbB']\n",
      "closest to CG : ['C', 'CEG', 'CE', 'G', 'CDG']\n",
      "closest to GBb : ['DGBb', 'EbGBb', 'Bb', 'DBb', 'FGBb']\n",
      "closest to DBb : ['DGBb', 'Bb', 'GBb', 'D', 'FBb']\n",
      "closest to EA : ['A', 'DbA', 'E', 'CEA', 'EAB']\n",
      "closest to CFA : ['CF', 'F', 'C', 'CA', 'FBb']\n",
      "closest to DbE : ['DbDE', 'DbEB', 'Db', 'DbEG', 'E']\n",
      "closest to DbEA : ['EA', 'DbA', 'DbEGA', 'DbDEA', 'DbEFA']\n",
      "closest to DbA : ['Db', 'A', 'EA', 'DbGbA', 'DbG']\n",
      "closest to CEb : ['Eb', 'CEbF', 'C', 'Bb', 'CEbG']\n",
      "closest to CF : ['CFA', 'F', 'C', 'CFBb', 'CBb']\n",
      "closest to EbG : ['Eb', 'EbGBb', 'EbBb', 'Bb', 'CEbG']\n",
      "closest to DFBb : ['DFAbBb', 'FBb', 'Bb', 'DF', 'DFGBb']\n",
      "closest to EB : ['EGB', 'EAbB', 'EG', 'B', 'E']\n",
      "closest to DFA : ['FA', 'EFA', 'DA', 'DEFA', 'DFABb']\n",
      "closest to AbB : ['DAbB', 'FAbB', 'Ab', 'EAbB', 'CAbB']\n",
      "closest to EAb : ['EAbB', 'CEAb', 'Ab', 'DEAb', 'DbEAb']\n",
      "closest to FAb : ['F', 'CFAb', 'CAb', 'Ab', 'EbFAb']\n",
      "closest to CEA : ['CE', 'EA', 'CA', 'CEGbA', 'CEB']\n",
      "closest to FBb : ['F', 'Bb', 'CFBb', 'DF', 'DFBb']\n",
      "closest to EAbB : ['EAb', 'EB', 'AbB', 'EbEAbB', 'EGbAbB']\n",
      "closest to EbGBb : ['EbG', 'GBb', 'EbBb', 'EbGAbBb', 'Bb']\n",
      "closest to CAb : ['Ab', 'CFAb', 'EbAb', 'FAb', 'Bb']\n",
      "closest to DGBb : ['GBb', 'DBb', 'DGABb', 'DG', 'DFAbBb']\n"
     ]
    }
   ],
   "source": [
    "for chord, n in count[1:50]:\n",
    "    print('closest to', chord,':', closest_by_name(chord)[1:])"
   ]
  },
  {
   "cell_type": "code",
   "execution_count": 90,
   "metadata": {
    "collapsed": true
   },
   "outputs": [],
   "source": [
    "def random_walk(init, length):\n",
    "    walk = []\n",
    "    for _ in range(length):\n",
    "        walk.append(init)\n",
    "        new = np.random.choice(closest(embeddings[init], take=12))\n",
    "        init = new\n",
    "    return walk"
   ]
  },
  {
   "cell_type": "code",
   "execution_count": 91,
   "metadata": {
    "collapsed": true
   },
   "outputs": [],
   "source": [
    "def to_freq(chord):\n",
    "    notes = {'C':60, 'D':62, 'E':64, 'F':65, 'G':67, 'A':69, 'B': 71}\n",
    "    flat = 0\n",
    "    freqs = []\n",
    "    for x in reversed(chord):\n",
    "        if x == 'b':\n",
    "            flat = -1\n",
    "        else:\n",
    "            freqs.append(notes[x] + flat)\n",
    "            flat = 0\n",
    "    return list(reversed(freqs))"
   ]
  },
  {
   "cell_type": "code",
   "execution_count": 92,
   "metadata": {
    "collapsed": true
   },
   "outputs": [],
   "source": [
    "import mido"
   ]
  },
  {
   "cell_type": "code",
   "execution_count": 93,
   "metadata": {
    "collapsed": true
   },
   "outputs": [],
   "source": [
    "def make_midi(sequence):\n",
    "    delta = 400\n",
    "    mid = mido.MidiFile()\n",
    "    mid.type = 0\n",
    "    track = mido.MidiTrack()\n",
    "    mid.tracks.append(track)\n",
    "    for freqs in sequence:\n",
    "        for freq in freqs:\n",
    "            track.append(mido.Message('note_on', note=freq, velocity=64, time=0))\n",
    "        step = 1\n",
    "        for freq in freqs:\n",
    "            track.append(mido.Message('note_off', note=freq, velocity=64, time=step*delta))\n",
    "            step = 0\n",
    "    mid.save('random.mid')"
   ]
  },
  {
   "cell_type": "code",
   "execution_count": 94,
   "metadata": {
    "collapsed": true
   },
   "outputs": [],
   "source": [
    "make_midi([to_freq(reverse_dictionary[x]) for x in random_walk(40,100)])"
   ]
  },
  {
   "cell_type": "code",
   "execution_count": null,
   "metadata": {
    "collapsed": true
   },
   "outputs": [],
   "source": []
  }
 ],
 "metadata": {
  "anaconda-cloud": {},
  "kernelspec": {
   "display_name": "Python 3",
   "language": "python",
   "name": "python3"
  },
  "language_info": {
   "codemirror_mode": {
    "name": "ipython",
    "version": 3
   },
   "file_extension": ".py",
   "mimetype": "text/x-python",
   "name": "python",
   "nbconvert_exporter": "python",
   "pygments_lexer": "ipython3",
   "version": "3.6.3"
  },
  "varInspector": {
   "cols": {
    "lenName": 16,
    "lenType": 16,
    "lenVar": 40
   },
   "kernels_config": {
    "python": {
     "delete_cmd_postfix": "",
     "delete_cmd_prefix": "del ",
     "library": "var_list.py",
     "varRefreshCmd": "print(var_dic_list())"
    },
    "r": {
     "delete_cmd_postfix": ") ",
     "delete_cmd_prefix": "rm(",
     "library": "var_list.r",
     "varRefreshCmd": "cat(var_dic_list()) "
    }
   },
   "types_to_exclude": [
    "module",
    "function",
    "builtin_function_or_method",
    "instance",
    "_Feature"
   ],
   "window_display": false
  }
 },
 "nbformat": 4,
 "nbformat_minor": 1
}
