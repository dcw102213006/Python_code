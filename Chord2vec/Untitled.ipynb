{
 "cells": [
  {
   "cell_type": "code",
   "execution_count": 57,
   "metadata": {
    "collapsed": true
   },
   "outputs": [],
   "source": [
    "import os\n",
    "import sys\n",
    "import collections\n",
    "\n",
    "\n",
    "VOCAB_SIZE = 500\n",
    "DATA_DIR = 'data'\n",
    "\n",
    "\n",
    "def convert_to_ids(SOURCE):\n",
    "\n",
    "    with open(SOURCE, 'r') as f:\n",
    "        chords = f.read().split()\n",
    "\n",
    "    init_count = collections.Counter(chords).most_common() \n",
    "    unk_count = sum([n for _, n in init_count[VOCAB_SIZE-1:]])\n",
    "    count = [('UNK', unk_count)] + init_count[:VOCAB_SIZE-1]#count:每個和弦出現幾次\n",
    "\n",
    "    os.makedirs(DATA_DIR, exist_ok=True)\n",
    "\n",
    "    vocabulary_path = os.path.join(DATA_DIR, 'vocabulary')\n",
    "    with open(vocabulary_path, 'w') as f:\n",
    "        f.write('{}\\n'.format(VOCAB_SIZE))\n",
    "        f.write('\\n'.join(['{} {}'.format(word, n) for word, n in count]))\n",
    "\n",
    "    dictionary = dict()\n",
    "    for i, (word, _) in enumerate(count):\n",
    "        dictionary[word] = i\n",
    "\n",
    "    data_as_ids = []\n",
    "    for chord in chords:\n",
    "        if chord in dictionary:\n",
    "            data_as_ids.append(str(dictionary[chord]))\n",
    "        else:\n",
    "            data_as_ids.append('0')\n",
    "\n",
    "    ids_path = os.path.join(DATA_DIR, 'data_as_ids')\n",
    "    with open(ids_path, 'w') as f:\n",
    "        f.write(' '.join(data_as_ids))"
   ]
  },
  {
   "cell_type": "code",
   "execution_count": 72,
   "metadata": {},
   "outputs": [
    {
     "data": {
      "text/plain": [
       "<generator object square at 0x0000024075EA8A40>"
      ]
     },
     "execution_count": 72,
     "metadata": {},
     "output_type": "execute_result"
    }
   ],
   "source": [
    "def square():\n",
    "    for x in range(4):\n",
    "        yield x ** 2\n",
    "square_gen = square()\n",
    "square_gen"
   ]
  }
 ],
 "metadata": {
  "kernelspec": {
   "display_name": "Python 3",
   "language": "python",
   "name": "python3"
  },
  "language_info": {
   "codemirror_mode": {
    "name": "ipython",
    "version": 3
   },
   "file_extension": ".py",
   "mimetype": "text/x-python",
   "name": "python",
   "nbconvert_exporter": "python",
   "pygments_lexer": "ipython3",
   "version": "3.6.3"
  },
  "varInspector": {
   "cols": {
    "lenName": 16,
    "lenType": 16,
    "lenVar": 40
   },
   "kernels_config": {
    "python": {
     "delete_cmd_postfix": "",
     "delete_cmd_prefix": "del ",
     "library": "var_list.py",
     "varRefreshCmd": "print(var_dic_list())"
    },
    "r": {
     "delete_cmd_postfix": ") ",
     "delete_cmd_prefix": "rm(",
     "library": "var_list.r",
     "varRefreshCmd": "cat(var_dic_list()) "
    }
   },
   "types_to_exclude": [
    "module",
    "function",
    "builtin_function_or_method",
    "instance",
    "_Feature"
   ],
   "window_display": false
  }
 },
 "nbformat": 4,
 "nbformat_minor": 2
}
