{
 "cells": [
  {
   "cell_type": "code",
   "execution_count": 21,
   "metadata": {
    "collapsed": true
   },
   "outputs": [],
   "source": [
    "import tensorflow as tf\n",
    "import numpy as np\n",
    "import pickle\n",
    "import os"
   ]
  },
  {
   "cell_type": "code",
   "execution_count": 22,
   "metadata": {
    "collapsed": true
   },
   "outputs": [],
   "source": [
    "# loads the embeddings variable from the tensorflow checkpoint\n",
    "def load_embeddings():\n",
    "    with tf.Session() as session:\n",
    "        if os.listdir('./data/processed/'):\n",
    "            saver = tf.train.import_meta_graph('./data/processed/model.ckpt-1.meta')\n",
    "            saver.restore(session, tf.train.latest_checkpoint('./data/processed/'))\n",
    "            return session.run('embedding:0')"
   ]
  },
  {
   "cell_type": "code",
   "execution_count": 23,
   "metadata": {
    "collapsed": true
   },
   "outputs": [],
   "source": [
    "def get_vocabulary(path):\n",
    "    \"\"\"Get all the information about the vocabulary from file. \"\"\"\n",
    "    vocabulary_path = os.path.join(path, 'vocabulary')\n",
    "    with open(vocabulary_path, 'r') as f:\n",
    "        vocabulary_size = int(f.readline())\n",
    "        count = []\n",
    "        dictionary = dict()\n",
    "        reverse_dictionary = []\n",
    "        for i, line in enumerate(f):\n",
    "                word, n = line.split()\n",
    "                count.append((word, n))\n",
    "                dictionary[word] = i\n",
    "                reverse_dictionary.append(word)\n",
    "    return vocabulary_size, count, dictionary, reverse_dictionary"
   ]
  },
  {
   "cell_type": "code",
   "execution_count": 24,
   "metadata": {
    "collapsed": true
   },
   "outputs": [],
   "source": [
    "def closest(x, take=6):\n",
    "    z = np.sum(np.square(x - embeddings), axis=1)\n",
    "    return np.argsort(z)[:take]"
   ]
  },
  {
   "cell_type": "code",
   "execution_count": 25,
   "metadata": {
    "collapsed": true
   },
   "outputs": [],
   "source": [
    "def closest_by_name(chord):\n",
    "    indices = closest(embeddings[dictionary[chord]])\n",
    "    chords = []\n",
    "    for i in indices:\n",
    "        chords.append(reverse_dictionary[i])\n",
    "    return chords"
   ]
  },
  {
   "cell_type": "code",
   "execution_count": 26,
   "metadata": {
    "collapsed": true
   },
   "outputs": [],
   "source": [
    "def compare(a, b, c):\n",
    "    x1 = embeddings[dictionary[a]]\n",
    "    y1 = embeddings[dictionary[b]]\n",
    "    y2 = embeddings[dictionary[c]]\n",
    "    # x1 - y1 = x2 - y2\n",
    "    # or\n",
    "    # x1 - y1 + y2 = x2\n",
    "    # a - b + c\n",
    "    indices = closest(x1-y1+y2)\n",
    "    \n",
    "    chords = []\n",
    "    for i in indices:\n",
    "        chords.append(reverse_dictionary[i])\n",
    "    return chords    "
   ]
  },
  {
   "cell_type": "code",
   "execution_count": 27,
   "metadata": {},
   "outputs": [
    {
     "name": "stdout",
     "output_type": "stream",
     "text": [
      "INFO:tensorflow:Restoring parameters from ./data/processed/model.ckpt-1\n"
     ]
    }
   ],
   "source": [
    "embeddings = load_embeddings()"
   ]
  },
  {
   "cell_type": "code",
   "execution_count": 34,
   "metadata": {},
   "outputs": [
    {
     "data": {
      "text/plain": [
       "0"
      ]
     },
     "execution_count": 34,
     "metadata": {},
     "output_type": "execute_result"
    }
   ],
   "source": [
    "dictionary['UNK']"
   ]
  },
  {
   "cell_type": "code",
   "execution_count": 16,
   "metadata": {
    "collapsed": true
   },
   "outputs": [],
   "source": [
    "vocabulary_size, count, dictionary, reverse_dictionary = get_vocabulary('data')"
   ]
  },
  {
   "cell_type": "code",
   "execution_count": 17,
   "metadata": {},
   "outputs": [
    {
     "name": "stdout",
     "output_type": "stream",
     "text": [
      "most common chords are\n",
      "Gb : 1015\n",
      "B : 813\n",
      "E : 789\n",
      "EAbB : 703\n",
      "CEG : 698\n",
      "GbB : 637\n",
      "A : 624\n",
      "DGb : 581\n",
      "DGbB : 564\n",
      "D : 548\n",
      "DbEA : 545\n",
      "AbB : 487\n",
      "Ab : 475\n",
      "Db : 475\n",
      "GbA : 439\n",
      "DEAbBbB : 427\n",
      "Bb : 426\n",
      "EAb : 402\n",
      "DGbGB : 377\n",
      "DbA : 364\n",
      "Eb : 362\n",
      "EG : 362\n",
      "GbGB : 356\n",
      "DGbA : 351\n",
      "EGb : 347\n"
     ]
    }
   ],
   "source": [
    "print('most common chords are')\n",
    "for chord, n in count[1:26]:\n",
    "    print(chord, ':', n)"
   ]
  },
  {
   "cell_type": "code",
   "execution_count": 20,
   "metadata": {},
   "outputs": [
    {
     "name": "stdout",
     "output_type": "stream",
     "text": [
      "closest to Gb : ['GbB', 'UNK', 'DGbB', 'DGb', 'DbEbAB']\n",
      "closest to B : ['GbB', 'D', 'DGbAB', 'CEbEB', 'EbB']\n",
      "closest to E : ['DEbAbB', 'DbDGb', 'D', 'EbE', 'DbEbE']\n",
      "closest to EAbB : ['EFAbB', 'EbEAbB', 'AbB', 'EbEB', 'CEB']\n",
      "closest to CEG : ['CEGB', 'EbGbGB', 'CEGBbB', 'CEGbGB', 'DbDEbFGbGBb']\n",
      "closest to GbB : ['Gb', 'B', 'EGbGAB', 'DbEbAB', 'UNK']\n",
      "closest to A : ['DEbGbA', 'DAB', 'EA', 'GbA', 'DEA']\n",
      "closest to DGb : ['Gb', 'D', 'GbB', 'DFGb', 'FGbBb']\n",
      "closest to DGbB : ['Gb', 'CDGbB', 'GbB', 'DbEbAB', 'DB']\n",
      "closest to D : ['DGb', 'B', 'DBbB', 'GbGA', 'DEAb']\n",
      "closest to DbEA : ['DEAB', 'Db', 'DbDEGA', 'CEbEA', 'DbE']\n",
      "closest to AbB : ['EAbB', 'EbAbB', 'CDbEFAb', 'CEbEAbB', 'EbEAbB']\n",
      "closest to Ab : ['EAbA', 'UNK', 'GbAb', 'EbAbB', 'AbA']\n",
      "closest to Db : ['DbEbA', 'DbE', 'A', 'UNK', 'DbEA']\n",
      "closest to GbA : ['A', 'DbEbGbAbA', 'DGbA', 'CGbGA', 'DbEGbB']\n",
      "closest to DEAbBbB : ['DEBb', 'DEAbABbB', 'DEAbB', 'DbD', 'DEAb']\n",
      "closest to Bb : ['GbGA', 'DEAbBb', 'CEbEB', 'CDbEFAb', 'C']\n",
      "closest to EAb : ['DbEAb', 'EAbBb', 'EAbBbB', 'EGbAb', 'E']\n",
      "closest to DGbGB : ['Gb', 'FGB', 'DGB', 'UNK', 'D']\n",
      "closest to DbA : ['CDbEbEA', 'A', 'CEbAbBbB', 'CDbEGbA', 'EbA']\n",
      "closest to Eb : ['EbB', 'CEb', 'DbGbAbB', 'AbB', 'EbGb']\n",
      "closest to EG : ['DbDEbEGAB', 'DbDEbFGbGBb', 'DbEbGbGA', 'DGbAbB', 'DbDEGABb']\n",
      "closest to GbGB : ['GbGA', 'DGb', 'GbB', 'CDEGbAB', 'FGbAb']\n",
      "closest to DGbA : ['DGbAB', 'CDGbA', 'Gb', 'A', 'GbB']\n",
      "closest to EGb : ['CEA', 'Gb', 'GbB', 'EbEGbAB', 'DbDEGAB']\n",
      "closest to DbGbA : ['DbDGbAB', 'DbGbAB', 'DbDEbGbB', 'Db', 'EbEGbAB']\n",
      "closest to G : ['DbG', 'DbGbGB', 'GbGA', 'DEbGbGBb', 'DbEG']\n",
      "closest to EB : ['CDbEAbB', 'E', 'EGbB', 'DbAB', 'DbDEbEGAB']\n",
      "closest to CDGbA : ['CEGAB', 'DGbA', 'CDFGb', 'CGbGA', 'DEGbAbBbB']\n",
      "closest to DGbG : ['DEbGbG', 'DGbAbB', 'D', 'UNK', 'DbEGbGB']\n",
      "closest to DbGb : ['DbGbB', 'EAbA', 'EAB', 'UNK', 'DGb']\n",
      "closest to CEGbG : ['CEGbGB', 'CE', 'CGbG', 'CEG', 'EGb']\n",
      "closest to DbE : ['Db', 'DbDFGbGBb', 'CEbEAb', 'DbEA', 'E']\n",
      "closest to GB : ['DAbA', 'GbGA', 'DFGbAbBb', 'GbGB', 'DEGBb']\n",
      "closest to EGbG : ['GbB', 'Gb', 'EGb', 'DEGB', 'CEG']\n",
      "closest to DB : ['D', 'DGbB', 'B', 'Gb', 'EbEGbAB']\n",
      "closest to DGB : ['DGbGB', 'UNK', 'DbDGbB', 'Gb', 'DGbB']\n",
      "closest to DGbAB : ['DGbGA', 'B', 'DGbA', 'GbB', 'Gb']\n",
      "closest to DbEAb : ['EAb', 'EAbBb', 'DbEAbBbB', 'CDbEbEA', 'EAbBbB']\n",
      "closest to EbAbB : ['AbB', 'Ab', 'DbAbB', 'EbEB', 'EbGbAbB']\n",
      "closest to DF : ['FB', 'F', 'DFGbBb', 'DGbBb', 'DbDEAbBbB']\n",
      "closest to EGbGB : ['GBbB', 'GAB', 'EGbB', 'CEG', 'CEGbG']\n",
      "closest to DGbBb : ['DGb', 'DF', 'DEBbB', 'CDbEGbA', 'DFBb']\n",
      "closest to CEA : ['CE', 'EA', 'EGb', 'DEGb', 'CGb']\n",
      "closest to EA : ['CEA', 'A', 'DbEB', 'DbEbEA', 'DbEbE']\n",
      "closest to F : ['DF', 'FB', 'DFB', 'EAbBb', 'DFGbGBb']\n",
      "closest to CE : ['CEA', 'CEABb', 'CEGbG', 'EGA', 'EGbA']\n",
      "closest to DFGb : ['DGb', 'DFGbAB', 'FGbBb', 'DFB', 'Gb']\n",
      "closest to EbEAbB : ['EAbB', 'AbB', 'DbGbAbB', 'DEbEAbBbB', 'Eb']\n"
     ]
    }
   ],
   "source": [
    "for chord, n in count[1:50]:\n",
    "    print('closest to', chord,':', closest_by_name(chord)[1:])"
   ]
  },
  {
   "cell_type": "code",
   "execution_count": 90,
   "metadata": {
    "collapsed": true
   },
   "outputs": [],
   "source": [
    "def random_walk(init, length):\n",
    "    walk = []\n",
    "    for _ in range(length):\n",
    "        walk.append(init)\n",
    "        new = np.random.choice(closest(embeddings[init], take=12))\n",
    "        init = new\n",
    "    return walk"
   ]
  },
  {
   "cell_type": "code",
   "execution_count": 91,
   "metadata": {
    "collapsed": true
   },
   "outputs": [],
   "source": [
    "def to_freq(chord):\n",
    "    notes = {'C':60, 'D':62, 'E':64, 'F':65, 'G':67, 'A':69, 'B': 71}\n",
    "    flat = 0\n",
    "    freqs = []\n",
    "    for x in reversed(chord):\n",
    "        if x == 'b':\n",
    "            flat = -1\n",
    "        else:\n",
    "            freqs.append(notes[x] + flat)\n",
    "            flat = 0\n",
    "    return list(reversed(freqs))"
   ]
  },
  {
   "cell_type": "code",
   "execution_count": 92,
   "metadata": {
    "collapsed": true
   },
   "outputs": [],
   "source": [
    "import mido"
   ]
  },
  {
   "cell_type": "code",
   "execution_count": 93,
   "metadata": {
    "collapsed": true
   },
   "outputs": [],
   "source": [
    "def make_midi(sequence):\n",
    "    delta = 400\n",
    "    mid = mido.MidiFile()\n",
    "    mid.type = 0\n",
    "    track = mido.MidiTrack()\n",
    "    mid.tracks.append(track)\n",
    "    for freqs in sequence:\n",
    "        for freq in freqs:\n",
    "            track.append(mido.Message('note_on', note=freq, velocity=64, time=0))\n",
    "        step = 1\n",
    "        for freq in freqs:\n",
    "            track.append(mido.Message('note_off', note=freq, velocity=64, time=step*delta))\n",
    "            step = 0\n",
    "    mid.save('random.mid')"
   ]
  },
  {
   "cell_type": "code",
   "execution_count": 94,
   "metadata": {
    "collapsed": true
   },
   "outputs": [],
   "source": [
    "make_midi([to_freq(reverse_dictionary[x]) for x in random_walk(40,100)])"
   ]
  },
  {
   "cell_type": "code",
   "execution_count": null,
   "metadata": {
    "collapsed": true
   },
   "outputs": [],
   "source": []
  }
 ],
 "metadata": {
  "anaconda-cloud": {},
  "kernelspec": {
   "display_name": "Python 3",
   "language": "python",
   "name": "python3"
  },
  "language_info": {
   "codemirror_mode": {
    "name": "ipython",
    "version": 3
   },
   "file_extension": ".py",
   "mimetype": "text/x-python",
   "name": "python",
   "nbconvert_exporter": "python",
   "pygments_lexer": "ipython3",
   "version": "3.6.3"
  },
  "varInspector": {
   "cols": {
    "lenName": 16,
    "lenType": 16,
    "lenVar": 40
   },
   "kernels_config": {
    "python": {
     "delete_cmd_postfix": "",
     "delete_cmd_prefix": "del ",
     "library": "var_list.py",
     "varRefreshCmd": "print(var_dic_list())"
    },
    "r": {
     "delete_cmd_postfix": ") ",
     "delete_cmd_prefix": "rm(",
     "library": "var_list.r",
     "varRefreshCmd": "cat(var_dic_list()) "
    }
   },
   "types_to_exclude": [
    "module",
    "function",
    "builtin_function_or_method",
    "instance",
    "_Feature"
   ],
   "window_display": false
  }
 },
 "nbformat": 4,
 "nbformat_minor": 1
}
