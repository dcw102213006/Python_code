{
 "cells": [
  {
   "cell_type": "code",
   "execution_count": 40,
   "metadata": {},
   "outputs": [
    {
     "data": {
      "text/plain": [
       "'C:\\\\Users\\\\dcw10\\\\Python jupyter code\\\\Tensorflow Tutorial\\\\Convolutional Auto Encoder\\\\libs'"
      ]
     },
     "execution_count": 40,
     "metadata": {},
     "output_type": "execute_result"
    }
   ],
   "source": [
    "import os\n",
    "os.getcwd()"
   ]
  },
  {
   "cell_type": "code",
   "execution_count": 48,
   "metadata": {},
   "outputs": [
    {
     "name": "stdout",
     "output_type": "stream",
     "text": [
      "Extracting MNIST_data/train-images-idx3-ubyte.gz\n",
      "Extracting MNIST_data/train-labels-idx1-ubyte.gz\n",
      "Extracting MNIST_data/t10k-images-idx3-ubyte.gz\n",
      "Extracting MNIST_data/t10k-labels-idx1-ubyte.gz\n",
      "Packages loaded\n"
     ]
    }
   ],
   "source": [
    "import tensorflow as tf\n",
    "import matplotlib.pyplot as plt\n",
    "import numpy as np\n",
    "from utils import weight_variable, bias_variable\n",
    "from tensorflow.examples.tutorials.mnist import input_data\n",
    "mnist = input_data.read_data_sets(\"MNIST_data/\", one_hot = True)\n",
    "print(\"Packages loaded\")"
   ]
  },
  {
   "cell_type": "markdown",
   "metadata": {},
   "source": [
    "# 建立convolution與deconvolutional layer\n",
    "Encoder的部分有convolutional layer , Decoder的部分有deconvolutional layer <br>\n",
    "建立一個包含兩層encoder以及兩層decoder的Convolutional 自編碼器"
   ]
  },
  {
   "cell_type": "markdown",
   "metadata": {},
   "source": [
    "各層輸出的維度比較:\n",
    "\n",
    "x 維度: 28 * 28，channel: 1 <br>\n",
    "encoder layer1 維度: 14 * 14，channel: 16 <br>\n",
    "encoder_layer2 維度: 7 * 7，channel: 32  <br>\n",
    "decoder_layer1 維度: 14 * 14，channel: 16 <br>\n",
    "decoder_layer2 維度: 28 * 28，channel: 1 <br>\n",
    "x recontruct = decoder_layer2 <br>\n",
    "\n",
    "(tf.nn.conv2d_transpose 的參數跟 tf.nn.conv2d 很像，只是要多一個 output_shape)"
   ]
  },
  {
   "cell_type": "code",
   "execution_count": 4,
   "metadata": {
    "collapsed": true
   },
   "outputs": [],
   "source": [
    "def conv2d(x, W): #convolutional layer\n",
    "    return tf.nn.conv2d(x, W, strides=[1, 2, 2, 1], padding = 'SAME')\n",
    "\n",
    "def deconv2d(x, W, output_shape): #deconvolutional layer\n",
    "    return tf.nn.conv2d_transpose(x, W, output_shape, strides = [1, 2, 2, 1], padding = 'SAME')"
   ]
  },
  {
   "cell_type": "markdown",
   "metadata": {},
   "source": [
    "# Build compute graph"
   ]
  },
  {
   "cell_type": "code",
   "execution_count": 44,
   "metadata": {},
   "outputs": [
    {
     "name": "stdout",
     "output_type": "stream",
     "text": [
      "code layer shape : (?, 7, 7, 32)\n",
      "reconstruct layer shape : (?, 28, 28, 1)\n"
     ]
    }
   ],
   "source": [
    "tf.reset_default_graph()\n",
    "x = tf.placeholder(tf.float32, shape = [None, 784])\n",
    "x_origin = tf.reshape(x, [-1, 28, 28, 1])\n",
    "\n",
    "W_e_conv1 = weight_variable([5, 5, 1, 16], \"w_e_conv1\")\n",
    "b_e_conv1 = bias_variable([16], \"b_e_conv1\")\n",
    "h_e_conv1 = tf.nn.relu(tf.add(conv2d(x_origin, W_e_conv1), b_e_conv1))\n",
    "\n",
    "W_e_conv2 = weight_variable([5, 5, 16, 32], \"w_e_conv2\")\n",
    "b_e_conv2 = bias_variable([32], \"b_e_conv2\")\n",
    "h_e_conv2 = tf.nn.relu(tf.add(conv2d(h_e_conv1, W_e_conv2), b_e_conv2))\n",
    "\n",
    "code_layer = h_e_conv2\n",
    "print(\"code layer shape : %s\" % h_e_conv2.get_shape())\n",
    "\n",
    "W_d_conv1 = weight_variable([5, 5, 16, 32], \"w_d_conv1\")\n",
    "b_d_conv1 = bias_variable([1], \"b_d_conv1\")\n",
    "output_shape_d_conv1 = tf.stack([tf.shape(x)[0], 14, 14, 16])\n",
    "h_d_conv1 = tf.nn.relu(deconv2d(h_e_conv2, W_d_conv1, output_shape_d_conv1))\n",
    "\n",
    "W_d_conv2 = weight_variable([5, 5, 1, 16], \"w_d_conv2\")\n",
    "b_d_conv2 = bias_variable([16], \"b_d_conv2\")\n",
    "output_shape_d_conv2 = tf.stack([tf.shape(x)[0], 28, 28, 1])\n",
    "h_d_conv2 = tf.nn.relu(deconv2d(h_d_conv1, W_d_conv2, output_shape_d_conv2))\n",
    "\n",
    "x_reconstruct = h_d_conv2\n",
    "print(\"reconstruct layer shape : %s\" % x_reconstruct.get_shape())\n"
   ]
  },
  {
   "cell_type": "markdown",
   "metadata": {},
   "source": [
    "# 建立Cost function\n"
   ]
  },
  {
   "cell_type": "code",
   "execution_count": 50,
   "metadata": {
    "collapsed": true
   },
   "outputs": [],
   "source": [
    "cost = tf.reduce_mean(tf.pow(x_reconstruct - x_origin, 2))\n",
    "optimizer = tf.train.AdamOptimizer(0.01).minimize(cost)"
   ]
  },
  {
   "cell_type": "markdown",
   "metadata": {},
   "source": [
    "# Training"
   ]
  },
  {
   "cell_type": "code",
   "execution_count": 51,
   "metadata": {},
   "outputs": [
    {
     "name": "stderr",
     "output_type": "stream",
     "text": [
      "C:\\ProgramData\\Anaconda3\\lib\\site-packages\\tensorflow\\python\\client\\session.py:1702: UserWarning: An interactive session is already active. This can cause out-of-memory errors in some cases. You must explicitly call `InteractiveSession.close()` to release resources held by the other session(s).\n",
      "  warnings.warn('An interactive session is already active. This can '\n"
     ]
    },
    {
     "name": "stdout",
     "output_type": "stream",
     "text": [
      "step 0, loss 0.101545\n",
      "step 100, loss 0.0359529\n",
      "step 200, loss 0.017533\n",
      "step 300, loss 0.0165007\n",
      "step 400, loss 0.0168763\n",
      "step 500, loss 0.0150149\n",
      "step 600, loss 0.0157801\n",
      "step 700, loss 0.0161237\n",
      "step 800, loss 0.0154118\n",
      "step 900, loss 0.014689\n",
      "step 1000, loss 0.0147519\n",
      "step 1100, loss 0.014394\n",
      "step 1200, loss 0.00202478\n",
      "step 1300, loss 0.00166783\n",
      "step 1400, loss 0.00171631\n",
      "step 2000, loss 0.0015989\n",
      "step 3000, loss 0.00132002\n",
      "step 4000, loss 0.000967559\n",
      "final loss 0.001153\n"
     ]
    }
   ],
   "source": [
    "sess = tf.InteractiveSession()\n",
    "batch_size = 60\n",
    "init_op = tf.global_variables_initializer()\n",
    "sess.run(init_op)\n",
    "\n",
    "for epoch in range(5000):\n",
    "    batch = mnist.train.next_batch(batch_size)\n",
    "    if epoch < 1500:\n",
    "        if epoch%100 == 0:\n",
    "            print(\"step %d, loss %g\"%(epoch, cost.eval(feed_dict={x:batch[0]})))\n",
    "    else:\n",
    "        if epoch%1000 == 0: \n",
    "            print(\"step %d, loss %g\"%(epoch, cost.eval(feed_dict={x:batch[0]})))\n",
    "    optimizer.run(feed_dict={x: batch[0]})\n",
    "    \n",
    "print(\"final loss %g\" % cost.eval(feed_dict={x: mnist.test.images}))"
   ]
  },
  {
   "cell_type": "markdown",
   "metadata": {},
   "source": [
    "# Plot reconstructed images"
   ]
  },
  {
   "cell_type": "code",
   "execution_count": 52,
   "metadata": {
    "collapsed": true
   },
   "outputs": [],
   "source": [
    "def plot_n_reconstruct(origin_img, reconstruct_img, n = 10):\n",
    "\n",
    "    plt.figure(figsize=(2 * 10, 4))\n",
    "\n",
    "    for i in range(n):\n",
    "        # display original\n",
    "        ax = plt.subplot(2, n, i + 1)\n",
    "        plt.imshow(origin_img[i].reshape(28, 28))\n",
    "        plt.gray()\n",
    "        ax.get_xaxis().set_visible(False)\n",
    "        ax.get_yaxis().set_visible(False)\n",
    "\n",
    "        # display reconstruction\n",
    "        ax = plt.subplot(2, n, i + 1 + n)\n",
    "        plt.imshow(reconstruct_img[i].reshape(28, 28))\n",
    "        plt.gray()\n",
    "        ax.get_xaxis().set_visible(False)\n",
    "        ax.get_yaxis().set_visible(False)\n",
    "    plt.show()"
   ]
  },
  {
   "cell_type": "code",
   "execution_count": 53,
   "metadata": {},
   "outputs": [
    {
     "data": {
      "image/png": "[encoded data removed]",
      "text/plain": [
       "<matplotlib.figure.Figure at 0x1d7ffd5b588>"
      ]
     },
     "metadata": {},
     "output_type": "display_data"
    }
   ],
   "source": [
    "test_size = 10\n",
    "test_origin_img = mnist.test.images[0:test_size, :]\n",
    "test_reconstruct_img = np.reshape(x_reconstruct.eval(feed_dict = {x: test_origin_img}), [-1, 28 * 28])\n",
    "plot_n_reconstruct(test_origin_img, test_reconstruct_img)"
   ]
  },
  {
   "cell_type": "code",
   "execution_count": 58,
   "metadata": {},
   "outputs": [
    {
     "data": {
      "text/plain": [
       "<tf.Tensor 'Relu_1:0' shape=(?, 7, 7, 32) dtype=float32>"
      ]
     },
     "execution_count": 58,
     "metadata": {},
     "output_type": "execute_result"
    }
   ],
   "source": [
    "code_layer\n"
   ]
  }
 ],
 "metadata": {
  "kernelspec": {
   "display_name": "Python 3",
   "language": "python",
   "name": "python3"
  },
  "language_info": {
   "codemirror_mode": {
    "name": "ipython",
    "version": 3
   },
   "file_extension": ".py",
   "mimetype": "text/x-python",
   "name": "python",
   "nbconvert_exporter": "python",
   "pygments_lexer": "ipython3",
   "version": "3.6.3"
  }
 },
 "nbformat": 4,
 "nbformat_minor": 2
}
