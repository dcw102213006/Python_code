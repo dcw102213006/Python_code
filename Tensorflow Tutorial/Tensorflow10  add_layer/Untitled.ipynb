{
 "cells": [
  {
   "cell_type": "code",
   "execution_count": 2,
   "metadata": {},
   "outputs": [],
   "source": [
    "import tensorflow as tf"
   ]
  },
  {
   "cell_type": "code",
   "execution_count": 5,
   "metadata": {
    "collapsed": true
   },
   "outputs": [],
   "source": [
    "def add_layer(inputs,in_size,out_size,activation_function=None):\n",
    "    Weights=tf.Variable(tf.random_normal([in_size,out_size]))\n",
    "    biases=tf.Variable(tf.zeros([1,outsize])+0.1)\n",
    "    Wx_plus_b=tf.matmul(inputs,Weights)+biases\n",
    "    if activation_function is None:\n",
    "        outputs=Wx_plus_b\n",
    "    else:\n",
    "        outputs=activation_function(Wx_plus_b)\n",
    "    return outputs"
   ]
  }
 ],
 "metadata": {
  "kernelspec": {
   "display_name": "Python 3",
   "language": "python",
   "name": "python3"
  },
  "language_info": {
   "codemirror_mode": {
    "name": "ipython",
    "version": 3
   },
   "file_extension": ".py",
   "mimetype": "text/x-python",
   "name": "python",
   "nbconvert_exporter": "python",
   "pygments_lexer": "ipython3",
   "version": "3.6.3"
  }
 },
 "nbformat": 4,
 "nbformat_minor": 2
}
