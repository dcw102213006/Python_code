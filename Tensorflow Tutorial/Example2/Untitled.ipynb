{
 "cells": [
  {
   "cell_type": "code",
   "execution_count": 2,
   "metadata": {},
   "outputs": [],
   "source": [
    "import tensorflow as tf\n",
    "import numpy as np\n"
   ]
  },
  {
   "cell_type": "code",
   "execution_count": 55,
   "metadata": {
    "collapsed": true
   },
   "outputs": [],
   "source": [
    "#creat data\n",
    "x_data=np.random.rand(100).astype(np.float32)\n",
    "y_data=x_data*0.1+0.3  #x_data*weight+bias"
   ]
  },
  {
   "cell_type": "code",
   "execution_count": 56,
   "metadata": {},
   "outputs": [],
   "source": [
    "###create tensorflow structure start###\n",
    "Weights=tf.Variable(tf.random_uniform([1],-1.0,1.0)) #隨機數，class為tf.Variable,一維結構，範圍從-1.0~1.\n",
    "biases=tf.Variable(tf.zeros([1]))\n"
   ]
  },
  {
   "cell_type": "code",
   "execution_count": 57,
   "metadata": {
    "collapsed": true
   },
   "outputs": [],
   "source": [
    "y=x_data*Weights+biases"
   ]
  },
  {
   "cell_type": "code",
   "execution_count": 58,
   "metadata": {},
   "outputs": [],
   "source": [
    "loss=tf.reduce_mean(tf.square(y-y_data))\n",
    "optimizer=tf.train.GradientDescentOptimizer(0.5) #0.5 is learning rate\n",
    "train=optimizer.minimize(loss)\n",
    "\n",
    "###create tensorflow structure end###"
   ]
  },
  {
   "cell_type": "code",
   "execution_count": 59,
   "metadata": {
    "collapsed": true
   },
   "outputs": [],
   "source": [
    "init=tf.initialize_all_variables()\n",
    "sess=tf.Session()\n",
    "sess.run(init) "
   ]
  },
  {
   "cell_type": "code",
   "execution_count": 60,
   "metadata": {
    "scrolled": true
   },
   "outputs": [
    {
     "name": "stdout",
     "output_type": "stream",
     "text": [
      "0 [-0.28725022] [0.7796763]\n",
      "20 [-0.05228964] [0.38815942]\n",
      "40 [0.05343247] [0.32695764]\n",
      "60 [0.08576045] [0.3082432]\n",
      "80 [0.0956458] [0.30252063]\n",
      "100 [0.09866856] [0.3007708]\n",
      "120 [0.09959286] [0.3002357]\n",
      "140 [0.0998755] [0.30007207]\n",
      "160 [0.09996195] [0.30002204]\n",
      "180 [0.09998837] [0.30000675]\n",
      "200 [0.09999647] [0.30000207]\n"
     ]
    }
   ],
   "source": [
    "for step in range(201):\n",
    "    sess.run(train)\n",
    "    if step %20==0:\n",
    "        print(step,sess.run(Weights),sess.run(biases))"
   ]
  },
  {
   "cell_type": "markdown",
   "metadata": {},
   "source": [
    "我們訓練weight與bias分別接近0.1與0.3(y=0.1x+0.3) <br>\n",
    "一開始Weight為-1~1之間的隨機數，bias為0 <br>\n",
    "在200次訓練後看到Weight接近0.1，bias接近0.3\n"
   ]
  }
 ],
 "metadata": {
  "kernelspec": {
   "display_name": "Python 3",
   "language": "python",
   "name": "python3"
  },
  "language_info": {
   "codemirror_mode": {
    "name": "ipython",
    "version": 3
   },
   "file_extension": ".py",
   "mimetype": "text/x-python",
   "name": "python",
   "nbconvert_exporter": "python",
   "pygments_lexer": "ipython3",
   "version": "3.6.3"
  }
 },
 "nbformat": 4,
 "nbformat_minor": 2
}
