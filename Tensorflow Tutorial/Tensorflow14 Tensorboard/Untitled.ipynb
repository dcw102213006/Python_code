{
 "cells": [
  {
   "cell_type": "code",
   "execution_count": 15,
   "metadata": {},
   "outputs": [],
   "source": [
    "%matplotlib inline\n",
    "import tensorflow as tf\n",
    "import numpy as np\n",
    "import pandas as pd\n",
    "import matplotlib.pyplot as plt\n",
    "\n",
    "import time"
   ]
  },
  {
   "cell_type": "code",
   "execution_count": 16,
   "metadata": {
    "collapsed": true
   },
   "outputs": [],
   "source": [
    "def add_layer(inputs,in_size,out_size,activation_function=None):\n",
    "    with tf.name_scope('layer'):\n",
    "        with tf.name_scope('weight'):\n",
    "            Weights=tf.Variable(tf.random_normal([in_size,out_size]),name='W') #tf.random_normal[row,col]\n",
    "        with tf.name_scope('bias'):\n",
    "            biases=tf.Variable(tf.zeros([1,out_size])+0.1)\n",
    "        with tf.name_scope('Wx_plus_b'):\n",
    "            Wx_plus_b=tf.matmul(inputs,Weights)+biases\n",
    "        if activation_function is None:\n",
    "            outputs=Wx_plus_b\n",
    "        else:\n",
    "            outputs=activation_function(Wx_plus_b)\n",
    "        return outputs"
   ]
  },
  {
   "cell_type": "code",
   "execution_count": 17,
   "metadata": {
    "collapsed": true
   },
   "outputs": [],
   "source": [
    "x_data=np.linspace(-1,1,300)[:,np.newaxis] #-1~1間300個點，x_data有300個row和1個coloumn\n",
    "noise=np.random.normal(0,0.05,x_data.shape)#random 0~0.05的數 300row和1個coloumn\n",
    "y_data=np.square(x_data)-0.5+noise"
   ]
  },
  {
   "cell_type": "code",
   "execution_count": 18,
   "metadata": {
    "collapsed": true
   },
   "outputs": [],
   "source": [
    "with tf.name_scope('inputs'):\n",
    "    xs=tf.placeholder(tf.float32,[None,1],name='x_input')\n",
    "    ys=tf.placeholder(tf.float32,[None,1],name='y_input')"
   ]
  },
  {
   "cell_type": "code",
   "execution_count": 19,
   "metadata": {
    "collapsed": true
   },
   "outputs": [],
   "source": [
    "l1=add_layer(xs,1,10,activation_function=tf.nn.relu)\n",
    "prediction=add_layer(l1,10,1,activation_function=None)\n"
   ]
  },
  {
   "cell_type": "code",
   "execution_count": 20,
   "metadata": {
    "collapsed": true
   },
   "outputs": [],
   "source": [
    "with tf.name_scope('loss'):\n",
    "    loss=tf.reduce_mean(tf.reduce_sum(tf.square(ys-prediction),reduction_indices=[1]))"
   ]
  },
  {
   "cell_type": "code",
   "execution_count": 21,
   "metadata": {
    "collapsed": true
   },
   "outputs": [],
   "source": [
    "with tf.name_scope('train'):\n",
    "    \n",
    "    train_step=tf.train.GradientDescentOptimizer(0.1).minimize(loss)\n"
   ]
  },
  {
   "cell_type": "code",
   "execution_count": 22,
   "metadata": {},
   "outputs": [],
   "source": [
    "init=tf.initialize_all_variables()\n",
    "sess=tf.Session()\n",
    "sess.run(init)"
   ]
  },
  {
   "cell_type": "code",
   "execution_count": 28,
   "metadata": {},
   "outputs": [],
   "source": [
    "writer=tf.summary.FileWriter('logs/',sess.graph)"
   ]
  },
  {
   "cell_type": "markdown",
   "metadata": {},
   "source": [
    "把tensorboard的圖放在logs資料夾下 <br>\n",
    "cd 到logs上一層並在terminal輸入以下指令:tensorboard --logdir=logs/ --host localhost --port 8088 <br>\n",
    "之後瀏覽teminal上的網址"
   ]
  },
  {
   "cell_type": "code",
   "execution_count": 24,
   "metadata": {},
   "outputs": [
    {
     "name": "stdout",
     "output_type": "stream",
     "text": [
      "0 0.03423523\n",
      "50 0.008163024\n",
      "100 0.006247576\n",
      "150 0.005465708\n",
      "200 0.004930213\n",
      "250 0.00457325\n",
      "300 0.0043615876\n",
      "350 0.004236014\n",
      "400 0.0041600345\n",
      "450 0.0040965886\n",
      "500 0.0040558646\n",
      "550 0.004024453\n",
      "600 0.003995947\n",
      "650 0.0039686626\n",
      "700 0.003945278\n",
      "750 0.003926403\n",
      "800 0.0039031613\n",
      "850 0.0038798356\n",
      "900 0.0038571418\n",
      "950 0.0038356995\n"
     ]
    }
   ],
   "source": [
    "for i in range(1000):\n",
    "    sess.run(train_step,feed_dict={xs:x_data,ys:y_data})\n",
    "    if i % 50==0:\n",
    "        print(i,sess.run(loss,feed_dict={xs:x_data,ys:y_data}))\n",
    "   \n",
    "     \n",
    "       "
   ]
  },
  {
   "cell_type": "code",
   "execution_count": 27,
   "metadata": {},
   "outputs": [
    {
     "data": {
      "text/plain": [
       "'C:\\\\Users\\\\dcw10\\\\Python jupyter code\\\\Tensorflow Tutorial\\\\Tensorflow14 Tensorboard'"
      ]
     },
     "execution_count": 27,
     "metadata": {},
     "output_type": "execute_result"
    }
   ],
   "source": [
    "import os\n",
    "os.getcwd()"
   ]
  }
 ],
 "metadata": {
  "kernelspec": {
   "display_name": "Python 3",
   "language": "python",
   "name": "python3"
  },
  "language_info": {
   "codemirror_mode": {
    "name": "ipython",
    "version": 3
   },
   "file_extension": ".py",
   "mimetype": "text/x-python",
   "name": "python",
   "nbconvert_exporter": "python",
   "pygments_lexer": "ipython3",
   "version": "3.6.3"
  }
 },
 "nbformat": 4,
 "nbformat_minor": 2
}
