{
 "cells": [
  {
   "cell_type": "code",
   "execution_count": 3,
   "metadata": {},
   "outputs": [],
   "source": [
    "import numpy as np\n",
    "import sklearn.preprocessing as prep\n",
    "import tensorflow as tf\n",
    "from tensorflow.examples.tutorials.mnist import input_data\n",
    "import pandas as pd"
   ]
  },
  {
   "cell_type": "markdown",
   "metadata": {},
   "source": [
    "# 參數初始化xavier initialization  \n",
    "根據某一層網路的輸入、輸出節點數量自動調整最合適的分佈。"
   ]
  },
  {
   "cell_type": "code",
   "execution_count": 4,
   "metadata": {
    "collapsed": true
   },
   "outputs": [],
   "source": [
    "def xavier_init(fan_in,fan_out,constant=1):\n",
    "    low=-constant*np.sqrt(6.0/(fan_in+fan_out))\n",
    "    high=constant*np.sqrt(6.0/(fan_in+fan_out))\n",
    "    return tf.random_uniform((fan_in,fan_out),\n",
    "                              minval=low,maxval=high,\n",
    "                              dtype=tf.float32)\n"
   ]
  },
  {
   "cell_type": "code",
   "execution_count": 5,
   "metadata": {
    "collapsed": true
   },
   "outputs": [],
   "source": [
    "class AdditiveGaussianNoiseAutoencoder(object):\n",
    "    def __init__(self,n_input,n_hidden,transfer_function=tf.nn.softplus,optimizer=tf.train.AdamOptimizer(),scale=0.1):\n",
    "        self.n_input=n_input\n",
    "        self.n_hidden=n_hidden\n",
    "        self.transfer=transfer_function\n",
    "        self.scale=tf.placeholder(tf.float32)\n",
    "        self.training_scale=scale\n",
    "        network_weights=self._initialize_weights()\n",
    "        self.weights=network_weights\n",
    "        \n",
    "        #接下來定義網路結構\n",
    "        self.x=tf.placeholder(tf.float32,[None,self.n_input])\n",
    "        self.hidden=self.transfer(\n",
    "            tf.add(\n",
    "                tf.matmul(\n",
    "                    self.x+scale*tf.random_normal((n_input,)),\n",
    "                    self.weights['w1']\n",
    "                ),\n",
    "                self.weights['b1']\n",
    "            )\n",
    "        )\n",
    "        self.reconstruction=tf.add(tf.matmul(self.hidden,self.weights['w2']),self.weights['b2'])\n",
    "        \n",
    "        #定義自編碼器的損失函數\n",
    "        self.cost=0.5*tf.reduce_sum(tf.pow(tf.subtract(self.reconstruction,self.x),2.0))\n",
    "        self.optimizer=optimizer.minimize(self.cost)\n",
    "        \n",
    "        init=tf.global_variables_initializer()\n",
    "        self.sess=tf.Session()\n",
    "        self.sess.run(init)\n",
    "    def _initialize_weights(self):\n",
    "        all_weights=dict()\n",
    "        all_weights['w1']=tf.Variable(xavier_init(self.n_input,self.n_hidden))\n",
    "        all_weights['b1']=tf.Variable(tf.zeros([self.n_hidden],dtype=tf.float32))\n",
    "        all_weights['w2']=tf.Variable(tf.zeros([self.n_hidden,self.n_input],dtype=tf.float32))\n",
    "        all_weights['b2']=tf.Variable(tf.zeros([self.n_input],dtype=tf.float32))\n",
    "\n",
    "        return all_weights\n",
    "    \n",
    "    def partial_fit(self,X):\n",
    "        cost,opt=self.sess.run((self.cost,self.optimizer),feed_dict={self.x:X,self.scale:self.training_scale})\n",
    "        return cost\n",
    "    \n",
    "    def calc_total_cost(self,X):\n",
    "        return self.sess.run(\n",
    "            self.cost,\n",
    "            feed_dict={\n",
    "                self.x:X,\n",
    "                self.scale:self.training_scale\n",
    "            }\n",
    "        )\n",
    "    def transform(self,X):\n",
    "        return self.sess.run(\n",
    "            self.hidden,\n",
    "            feed_dict={\n",
    "                self.x:X,\n",
    "                self.scale:self.training_scale\n",
    "            }\n",
    "        )\n",
    "    def generate(self,hidden=None):\n",
    "        if hidden is None:\n",
    "            hidden=np.random.normal(size=self.weights['b1'])\n",
    "        return self.sess.run(\n",
    "            self.reconstruction,\n",
    "            feed_dict={\n",
    "                self.hidden:hidden\n",
    "            }\n",
    "        )\n",
    "    \n",
    "    def reconstruction(self,X):\n",
    "        return self.sess.run(\n",
    "            self.reconstruction,\n",
    "            feed_dict={\n",
    "                self.x:X,\n",
    "                self.scale:self.training_scale\n",
    "\n",
    "            }\n",
    "        )\n",
    "    \n",
    "    def getWeights(self):\n",
    "        return self.sess.run(self.weights['w1'])\n",
    "    def getBiase(self):\n",
    "        return self.sess.run(self.weights['b1'])"
   ]
  },
  {
   "cell_type": "code",
   "execution_count": 7,
   "metadata": {},
   "outputs": [
    {
     "name": "stdout",
     "output_type": "stream",
     "text": [
      "Extracting MNIST_data\\train-images-idx3-ubyte.gz\n",
      "Extracting MNIST_data\\train-labels-idx1-ubyte.gz\n",
      "Extracting MNIST_data\\t10k-images-idx3-ubyte.gz\n",
      "Extracting MNIST_data\\t10k-labels-idx1-ubyte.gz\n"
     ]
    }
   ],
   "source": [
    "mnist=input_data.read_data_sets('MNIST_data',one_hot=True)"
   ]
  },
  {
   "cell_type": "code",
   "execution_count": 8,
   "metadata": {
    "collapsed": true
   },
   "outputs": [],
   "source": [
    "def standard_scale(X_train,X_test):\n",
    "    preprocessor=prep.StandardScaler().fit(X_train)\n",
    "    X_train=preprocessor.transform(X_train)\n",
    "    X_test=preprocessor.transform(X_test)\n",
    "    return X_train,X_test"
   ]
  },
  {
   "cell_type": "code",
   "execution_count": 9,
   "metadata": {
    "collapsed": true
   },
   "outputs": [],
   "source": [
    "def get_random_block_from_data(data,batch_size):\n",
    "    start_index=np.random.randint(0,len(data)-batch_size)\n",
    "    return data[start_index:(start_index+batch_size)]\n",
    "\n"
   ]
  },
  {
   "cell_type": "code",
   "execution_count": 10,
   "metadata": {
    "collapsed": true
   },
   "outputs": [],
   "source": [
    "X_train,X_test=standard_scale(mnist.train.images,mnist.test.images)"
   ]
  },
  {
   "cell_type": "code",
   "execution_count": 12,
   "metadata": {
    "collapsed": true
   },
   "outputs": [],
   "source": [
    "n_samples=int(mnist.train.num_examples)\n",
    "training_epochs=20\n",
    "batch_size=128\n",
    "display_step=1"
   ]
  },
  {
   "cell_type": "code",
   "execution_count": 20,
   "metadata": {
    "collapsed": true
   },
   "outputs": [],
   "source": [
    "autoencoder=AdditiveGaussianNoiseAutoencoder(\n",
    "    n_input=784,\n",
    "    n_hidden=200,\n",
    "    transfer_function=tf.nn.softplus,\n",
    "    optimizer=tf.train.AdamOptimizer(learning_rate=0.001),\n",
    "    scale=0.01\n",
    ")"
   ]
  },
  {
   "cell_type": "code",
   "execution_count": 24,
   "metadata": {},
   "outputs": [
    {
     "data": {
      "text/plain": [
       "array([[-0.03378165, -0.07176102, -0.06751537, ..., -0.05130841,\n",
       "         0.04958694,  0.04304562],\n",
       "       [ 0.07529439,  0.01881208, -0.00796723, ...,  0.05667144,\n",
       "        -0.07747819, -0.0312485 ],\n",
       "       [-0.05013537,  0.03296241,  0.03774371, ...,  0.03569144,\n",
       "        -0.02456729,  0.00708638],\n",
       "       ...,\n",
       "       [ 0.05199704,  0.07471754, -0.07079258, ...,  0.01330276,\n",
       "         0.05338037, -0.03771444],\n",
       "       [ 0.01574226,  0.00107655, -0.02561682, ...,  0.04942307,\n",
       "        -0.01527624,  0.0040527 ],\n",
       "       [-0.00791927,  0.04179253,  0.00279534, ..., -0.02732766,\n",
       "         0.02824192,  0.02886745]], dtype=float32)"
      ]
     },
     "execution_count": 24,
     "metadata": {},
     "output_type": "execute_result"
    }
   ],
   "source": [
    "#Training前參數\n",
    "weight_before_train=autoencoder.getWeights()\n",
    "weight_before_train"
   ]
  },
  {
   "cell_type": "code",
   "execution_count": 17,
   "metadata": {},
   "outputs": [
    {
     "name": "stdout",
     "output_type": "stream",
     "text": [
      "Epoch: 0001 cost= 18617.321873864\n",
      "Epoch: 0002 cost= 12126.012306818\n",
      "Epoch: 0003 cost= 10527.090507386\n",
      "Epoch: 0004 cost= 10099.338019318\n",
      "Epoch: 0005 cost= 9080.782606250\n",
      "Epoch: 0006 cost= 9426.867237500\n",
      "Epoch: 0007 cost= 9850.560368750\n",
      "Epoch: 0008 cost= 9285.220034091\n",
      "Epoch: 0009 cost= 9657.277647727\n",
      "Epoch: 0010 cost= 8593.236076705\n",
      "Epoch: 0011 cost= 8403.773209091\n",
      "Epoch: 0012 cost= 8224.721195455\n",
      "Epoch: 0013 cost= 8571.384389205\n",
      "Epoch: 0014 cost= 7723.577074432\n",
      "Epoch: 0015 cost= 8393.180772159\n",
      "Epoch: 0016 cost= 8820.796188636\n",
      "Epoch: 0017 cost= 7765.981620455\n",
      "Epoch: 0018 cost= 8018.703921591\n",
      "Epoch: 0019 cost= 8659.253739205\n",
      "Epoch: 0020 cost= 7672.779822159\n"
     ]
    }
   ],
   "source": [
    "for epoch in range(training_epochs):\n",
    "    avg_cost=0.\n",
    "    total_batch=int(n_samples/batch_size)\n",
    "    for i in range(total_batch):\n",
    "        batch_xs=get_random_block_from_data(X_train,batch_size)\n",
    "        \n",
    "        cost=autoencoder.partial_fit(batch_xs)\n",
    "        \n",
    "        avg_cost += cost/n_samples*batch_size\n",
    "    if epoch % display_step==0:\n",
    "        print(\"Epoch:\",'%04d' % (epoch+1),'cost=',\"{:.9f}\".format(avg_cost))"
   ]
  },
  {
   "cell_type": "code",
   "execution_count": 18,
   "metadata": {},
   "outputs": [
    {
     "name": "stdout",
     "output_type": "stream",
     "text": [
      "Total cost:658773.8\n"
     ]
    }
   ],
   "source": [
    "print('Total cost:' + str(autoencoder.calc_total_cost(X_test)))"
   ]
  },
  {
   "cell_type": "code",
   "execution_count": 31,
   "metadata": {
    "collapsed": true
   },
   "outputs": [],
   "source": [
    "encode_feature=autoencoder.transform(X_train)"
   ]
  },
  {
   "cell_type": "code",
   "execution_count": 32,
   "metadata": {},
   "outputs": [
    {
     "data": {
      "text/plain": [
       "array([[0.17124765, 0.6783413 , 0.36384264, ..., 0.36981454, 1.1977699 ,\n",
       "        0.05044066],\n",
       "       [1.5294659 , 1.7466848 , 1.5379183 , ..., 0.9434279 , 2.2056053 ,\n",
       "        1.7927393 ],\n",
       "       [0.59827197, 1.0346497 , 0.20885886, ..., 0.50986814, 0.71495426,\n",
       "        0.23694426],\n",
       "       ...,\n",
       "       [0.9562799 , 1.6139101 , 0.51452017, ..., 1.0998256 , 1.4699045 ,\n",
       "        0.8800701 ],\n",
       "       [0.38236818, 0.76742613, 0.11375509, ..., 0.5895511 , 0.82838523,\n",
       "        1.5679029 ],\n",
       "       [0.20375349, 1.5139087 , 2.28573   , ..., 0.7209778 , 0.1800679 ,\n",
       "        0.34302384]], dtype=float32)"
      ]
     },
     "execution_count": 32,
     "metadata": {},
     "output_type": "execute_result"
    }
   ],
   "source": [
    "encode_feature"
   ]
  },
  {
   "cell_type": "code",
   "execution_count": 19,
   "metadata": {},
   "outputs": [
    {
     "data": {
      "text/plain": [
       "array([[ 0.02256429,  0.05932727, -0.06663494, ..., -0.09210242,\n",
       "         0.0240842 ,  0.02897671],\n",
       "       [ 0.11438754,  0.03031569,  0.06131024, ...,  0.08560225,\n",
       "         0.12691982, -0.00927777],\n",
       "       [-0.01298253,  0.01128005,  0.02308381, ...,  0.00652111,\n",
       "         0.03105803, -0.03866806],\n",
       "       ...,\n",
       "       [-0.02450373,  0.05649551,  0.10894255, ..., -0.06524988,\n",
       "        -0.04503337,  0.09875945],\n",
       "       [ 0.00816757,  0.01973294, -0.07212574, ..., -0.12473406,\n",
       "        -0.04937341, -0.010747  ],\n",
       "       [-0.0430139 ,  0.031868  ,  0.01997165, ...,  0.04978435,\n",
       "        -0.01059116,  0.01385012]], dtype=float32)"
      ]
     },
     "execution_count": 19,
     "metadata": {},
     "output_type": "execute_result"
    }
   ],
   "source": [
    "autoencoder.getWeights()"
   ]
  }
 ],
 "metadata": {
  "kernelspec": {
   "display_name": "Python 3",
   "language": "python",
   "name": "python3"
  },
  "language_info": {
   "codemirror_mode": {
    "name": "ipython",
    "version": 3
   },
   "file_extension": ".py",
   "mimetype": "text/x-python",
   "name": "python",
   "nbconvert_exporter": "python",
   "pygments_lexer": "ipython3",
   "version": "3.6.3"
  }
 },
 "nbformat": 4,
 "nbformat_minor": 2
}
