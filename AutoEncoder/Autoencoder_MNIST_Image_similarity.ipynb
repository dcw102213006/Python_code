{
 "cells": [
  {
   "cell_type": "code",
   "execution_count": 55,
   "metadata": {
    "collapsed": true
   },
   "outputs": [],
   "source": [
    "import numpy as np\n",
    "from keras.layers import Input, Conv2D, MaxPooling2D, UpSampling2D\n",
    "from keras.models import Model\n",
    "from keras.datasets import mnist\n",
    "import matplotlib.pyplot as plt\n",
    "%matplotlib inline"
   ]
  },
  {
   "cell_type": "code",
   "execution_count": 56,
   "metadata": {},
   "outputs": [],
   "source": [
    "(X_train,_),(X_test,_) = mnist.load_data()"
   ]
  },
  {
   "cell_type": "code",
   "execution_count": 23,
   "metadata": {},
   "outputs": [
    {
     "name": "stdout",
     "output_type": "stream",
     "text": [
      "(60000, 28, 28) (10000, 28, 28)\n"
     ]
    }
   ],
   "source": [
    "X_train = X_train.astype('float32') / 255.\n",
    "X_test = X_test.astype('float32') / 255.\n",
    "print(X_train.shape, X_test.shape)"
   ]
  },
  {
   "cell_type": "code",
   "execution_count": 59,
   "metadata": {},
   "outputs": [
    {
     "data": {
      "text/plain": [
       "<matplotlib.image.AxesImage at 0x14cb6418828>"
      ]
     },
     "execution_count": 59,
     "metadata": {},
     "output_type": "execute_result"
    },
    {
     "data": {
      "image/png": "[encoded data removed]",
      "text/plain": [
       "<matplotlib.figure.Figure at 0x14cb8f4a8d0>"
      ]
     },
     "metadata": {},
     "output_type": "display_data"
    }
   ],
   "source": [
    "plt.imshow(X_train[2].reshape(28,28), cmap='gray')"
   ]
  },
  {
   "cell_type": "markdown",
   "metadata": {},
   "source": [
    "# Reshape the data to have 1 channel"
   ]
  },
  {
   "cell_type": "code",
   "execution_count": 24,
   "metadata": {
    "collapsed": true
   },
   "outputs": [],
   "source": [
    "X_train = np.reshape(X_train, (-1, 28, 28, 1))\n",
    "X_test = np.reshape(X_test, (-1, 28, 28, 1))"
   ]
  },
  {
   "cell_type": "code",
   "execution_count": 25,
   "metadata": {},
   "outputs": [
    {
     "name": "stdout",
     "output_type": "stream",
     "text": [
      "(60000, 28, 28, 1) (10000, 28, 28, 1)\n"
     ]
    }
   ],
   "source": [
    "\n",
    "print(X_train.shape, X_test.shape)"
   ]
  },
  {
   "cell_type": "markdown",
   "metadata": {},
   "source": [
    "# Create the autoencoder"
   ]
  },
  {
   "cell_type": "code",
   "execution_count": 14,
   "metadata": {
    "collapsed": true
   },
   "outputs": [],
   "source": [
    "input_img = Input(shape=(28,28,1))\n",
    "x = Conv2D(16,(3,3), activation='relu', padding='same')(input_img)\n",
    "x = MaxPooling2D((2,2), padding='same')(x)\n",
    "x = Conv2D(8,(3,3), activation='relu', padding='same')(x)\n",
    "x = MaxPooling2D((2,2), padding='same')(x)\n",
    "x = Conv2D(8,(3,3), activation='relu', padding='same')(x)\n",
    "encoded = MaxPooling2D((2,2), padding='same', name='encoder')(x)\n",
    "\n",
    "x = Conv2D(8, (3, 3), activation='relu', padding='same')(encoded)\n",
    "x = UpSampling2D((2, 2))(x)\n",
    "x = Conv2D(8, (3, 3), activation='relu', padding='same')(x)\n",
    "x = UpSampling2D((2, 2))(x)\n",
    "x = Conv2D(16, (3, 3), activation='relu')(x)\n",
    "x = UpSampling2D((2, 2))(x)\n",
    "decoded = Conv2D(1, (3, 3), activation='sigmoid', padding='same')(x)\n",
    "\n",
    "autoencoder = Model(input_img, decoded)\n",
    "autoencoder.compile(optimizer='adam', loss='mse')"
   ]
  },
  {
   "cell_type": "markdown",
   "metadata": {},
   "source": [
    "# Train it"
   ]
  },
  {
   "cell_type": "code",
   "execution_count": 27,
   "metadata": {},
   "outputs": [
    {
     "name": "stdout",
     "output_type": "stream",
     "text": [
      "Epoch 1/2\n",
      "60000/60000 [==============================] - 86s 1ms/step - loss: 0.0033\n",
      "Epoch 2/2\n",
      "60000/60000 [==============================] - 86s 1ms/step - loss: 1.7230e-06\n"
     ]
    },
    {
     "data": {
      "text/plain": [
       "<keras.callbacks.History at 0x14cae8ce5c0>"
      ]
     },
     "execution_count": 27,
     "metadata": {},
     "output_type": "execute_result"
    }
   ],
   "source": [
    "autoencoder.fit(X_train, X_train, epochs=2, batch_size=32, callbacks=None )"
   ]
  },
  {
   "cell_type": "code",
   "execution_count": 28,
   "metadata": {
    "collapsed": true
   },
   "outputs": [],
   "source": [
    "autoencoder.save('autoencoder.h5')"
   ]
  },
  {
   "cell_type": "code",
   "execution_count": 29,
   "metadata": {},
   "outputs": [
    {
     "name": "stdout",
     "output_type": "stream",
     "text": [
      "_________________________________________________________________\n",
      "Layer (type)                 Output Shape              Param #   \n",
      "=================================================================\n",
      "input_4 (InputLayer)         (None, 28, 28, 1)         0         \n",
      "_________________________________________________________________\n",
      "conv2d_6 (Conv2D)            (None, 28, 28, 16)        160       \n",
      "_________________________________________________________________\n",
      "max_pooling2d_3 (MaxPooling2 (None, 14, 14, 16)        0         \n",
      "_________________________________________________________________\n",
      "conv2d_7 (Conv2D)            (None, 14, 14, 8)         1160      \n",
      "_________________________________________________________________\n",
      "max_pooling2d_4 (MaxPooling2 (None, 7, 7, 8)           0         \n",
      "_________________________________________________________________\n",
      "conv2d_8 (Conv2D)            (None, 7, 7, 8)           584       \n",
      "_________________________________________________________________\n",
      "encoder (MaxPooling2D)       (None, 4, 4, 8)           0         \n",
      "_________________________________________________________________\n",
      "conv2d_9 (Conv2D)            (None, 4, 4, 8)           584       \n",
      "_________________________________________________________________\n",
      "up_sampling2d_1 (UpSampling2 (None, 8, 8, 8)           0         \n",
      "_________________________________________________________________\n",
      "conv2d_10 (Conv2D)           (None, 8, 8, 8)           584       \n",
      "_________________________________________________________________\n",
      "up_sampling2d_2 (UpSampling2 (None, 16, 16, 8)         0         \n",
      "_________________________________________________________________\n",
      "conv2d_11 (Conv2D)           (None, 14, 14, 16)        1168      \n",
      "_________________________________________________________________\n",
      "up_sampling2d_3 (UpSampling2 (None, 28, 28, 16)        0         \n",
      "_________________________________________________________________\n",
      "conv2d_12 (Conv2D)           (None, 28, 28, 1)         145       \n",
      "=================================================================\n",
      "Total params: 4,385\n",
      "Trainable params: 4,385\n",
      "Non-trainable params: 0\n",
      "_________________________________________________________________\n"
     ]
    }
   ],
   "source": [
    "autoencoder.summary()"
   ]
  },
  {
   "cell_type": "markdown",
   "metadata": {},
   "source": [
    "# Create the encoder part\n",
    "The encoder part is the first half of the autoencoder, i.e. the part that will encode the input into a latent space representation. In this case, the dimension of this representation is $4 \\times 4 \\times 8$"
   ]
  },
  {
   "cell_type": "code",
   "execution_count": 30,
   "metadata": {
    "collapsed": true
   },
   "outputs": [],
   "source": [
    "encoder = Model(inputs=autoencoder.input, outputs=autoencoder.get_layer('encoder').output)"
   ]
  },
  {
   "cell_type": "code",
   "execution_count": 31,
   "metadata": {
    "collapsed": true
   },
   "outputs": [],
   "source": [
    "encoder.save('encoder.h5')"
   ]
  },
  {
   "cell_type": "markdown",
   "metadata": {},
   "source": [
    "# Load the query image¶\n",
    "We take a query image from the test set"
   ]
  },
  {
   "cell_type": "code",
   "execution_count": 32,
   "metadata": {
    "collapsed": true
   },
   "outputs": [],
   "source": [
    "query = X_test[7]"
   ]
  },
  {
   "cell_type": "code",
   "execution_count": 61,
   "metadata": {},
   "outputs": [
    {
     "data": {
      "text/plain": [
       "(28, 28, 1)"
      ]
     },
     "execution_count": 61,
     "metadata": {},
     "output_type": "execute_result"
    }
   ],
   "source": [
    "query.shape"
   ]
  },
  {
   "cell_type": "code",
   "execution_count": 62,
   "metadata": {},
   "outputs": [
    {
     "data": {
      "text/plain": [
       "array([[[0.0000000e+00],\n",
       "        [0.0000000e+00],\n",
       "        [0.0000000e+00],\n",
       "        [0.0000000e+00],\n",
       "        [0.0000000e+00],\n",
       "        [0.0000000e+00],\n",
       "        [0.0000000e+00],\n",
       "        [0.0000000e+00],\n",
       "        [0.0000000e+00],\n",
       "        [0.0000000e+00],\n",
       "        [0.0000000e+00],\n",
       "        [0.0000000e+00],\n",
       "        [0.0000000e+00],\n",
       "        [0.0000000e+00],\n",
       "        [0.0000000e+00],\n",
       "        [0.0000000e+00],\n",
       "        [0.0000000e+00],\n",
       "        [0.0000000e+00],\n",
       "        [0.0000000e+00],\n",
       "        [0.0000000e+00],\n",
       "        [0.0000000e+00],\n",
       "        [0.0000000e+00],\n",
       "        [0.0000000e+00],\n",
       "        [0.0000000e+00],\n",
       "        [0.0000000e+00],\n",
       "        [0.0000000e+00],\n",
       "        [0.0000000e+00],\n",
       "        [0.0000000e+00]],\n",
       "\n",
       "       [[0.0000000e+00],\n",
       "        [0.0000000e+00],\n",
       "        [0.0000000e+00],\n",
       "        [0.0000000e+00],\n",
       "        [0.0000000e+00],\n",
       "        [0.0000000e+00],\n",
       "        [0.0000000e+00],\n",
       "        [0.0000000e+00],\n",
       "        [0.0000000e+00],\n",
       "        [0.0000000e+00],\n",
       "        [0.0000000e+00],\n",
       "        [0.0000000e+00],\n",
       "        [0.0000000e+00],\n",
       "        [0.0000000e+00],\n",
       "        [0.0000000e+00],\n",
       "        [0.0000000e+00],\n",
       "        [0.0000000e+00],\n",
       "        [0.0000000e+00],\n",
       "        [0.0000000e+00],\n",
       "        [0.0000000e+00],\n",
       "        [0.0000000e+00],\n",
       "        [0.0000000e+00],\n",
       "        [0.0000000e+00],\n",
       "        [0.0000000e+00],\n",
       "        [0.0000000e+00],\n",
       "        [0.0000000e+00],\n",
       "        [0.0000000e+00],\n",
       "        [0.0000000e+00]],\n",
       "\n",
       "       [[0.0000000e+00],\n",
       "        [0.0000000e+00],\n",
       "        [0.0000000e+00],\n",
       "        [0.0000000e+00],\n",
       "        [0.0000000e+00],\n",
       "        [0.0000000e+00],\n",
       "        [0.0000000e+00],\n",
       "        [0.0000000e+00],\n",
       "        [0.0000000e+00],\n",
       "        [0.0000000e+00],\n",
       "        [0.0000000e+00],\n",
       "        [0.0000000e+00],\n",
       "        [0.0000000e+00],\n",
       "        [0.0000000e+00],\n",
       "        [0.0000000e+00],\n",
       "        [0.0000000e+00],\n",
       "        [0.0000000e+00],\n",
       "        [0.0000000e+00],\n",
       "        [0.0000000e+00],\n",
       "        [0.0000000e+00],\n",
       "        [0.0000000e+00],\n",
       "        [0.0000000e+00],\n",
       "        [0.0000000e+00],\n",
       "        [0.0000000e+00],\n",
       "        [0.0000000e+00],\n",
       "        [0.0000000e+00],\n",
       "        [0.0000000e+00],\n",
       "        [0.0000000e+00]],\n",
       "\n",
       "       [[0.0000000e+00],\n",
       "        [0.0000000e+00],\n",
       "        [0.0000000e+00],\n",
       "        [0.0000000e+00],\n",
       "        [0.0000000e+00],\n",
       "        [0.0000000e+00],\n",
       "        [0.0000000e+00],\n",
       "        [0.0000000e+00],\n",
       "        [0.0000000e+00],\n",
       "        [0.0000000e+00],\n",
       "        [0.0000000e+00],\n",
       "        [0.0000000e+00],\n",
       "        [0.0000000e+00],\n",
       "        [0.0000000e+00],\n",
       "        [0.0000000e+00],\n",
       "        [0.0000000e+00],\n",
       "        [0.0000000e+00],\n",
       "        [0.0000000e+00],\n",
       "        [0.0000000e+00],\n",
       "        [0.0000000e+00],\n",
       "        [0.0000000e+00],\n",
       "        [0.0000000e+00],\n",
       "        [0.0000000e+00],\n",
       "        [0.0000000e+00],\n",
       "        [0.0000000e+00],\n",
       "        [0.0000000e+00],\n",
       "        [0.0000000e+00],\n",
       "        [0.0000000e+00]],\n",
       "\n",
       "       [[0.0000000e+00],\n",
       "        [0.0000000e+00],\n",
       "        [0.0000000e+00],\n",
       "        [0.0000000e+00],\n",
       "        [0.0000000e+00],\n",
       "        [0.0000000e+00],\n",
       "        [0.0000000e+00],\n",
       "        [0.0000000e+00],\n",
       "        [0.0000000e+00],\n",
       "        [0.0000000e+00],\n",
       "        [0.0000000e+00],\n",
       "        [0.0000000e+00],\n",
       "        [0.0000000e+00],\n",
       "        [0.0000000e+00],\n",
       "        [0.0000000e+00],\n",
       "        [0.0000000e+00],\n",
       "        [0.0000000e+00],\n",
       "        [0.0000000e+00],\n",
       "        [0.0000000e+00],\n",
       "        [0.0000000e+00],\n",
       "        [0.0000000e+00],\n",
       "        [0.0000000e+00],\n",
       "        [0.0000000e+00],\n",
       "        [0.0000000e+00],\n",
       "        [0.0000000e+00],\n",
       "        [0.0000000e+00],\n",
       "        [0.0000000e+00],\n",
       "        [0.0000000e+00]],\n",
       "\n",
       "       [[0.0000000e+00],\n",
       "        [0.0000000e+00],\n",
       "        [0.0000000e+00],\n",
       "        [0.0000000e+00],\n",
       "        [0.0000000e+00],\n",
       "        [0.0000000e+00],\n",
       "        [0.0000000e+00],\n",
       "        [0.0000000e+00],\n",
       "        [0.0000000e+00],\n",
       "        [0.0000000e+00],\n",
       "        [0.0000000e+00],\n",
       "        [0.0000000e+00],\n",
       "        [0.0000000e+00],\n",
       "        [0.0000000e+00],\n",
       "        [0.0000000e+00],\n",
       "        [0.0000000e+00],\n",
       "        [0.0000000e+00],\n",
       "        [0.0000000e+00],\n",
       "        [0.0000000e+00],\n",
       "        [0.0000000e+00],\n",
       "        [0.0000000e+00],\n",
       "        [0.0000000e+00],\n",
       "        [0.0000000e+00],\n",
       "        [0.0000000e+00],\n",
       "        [0.0000000e+00],\n",
       "        [0.0000000e+00],\n",
       "        [0.0000000e+00],\n",
       "        [0.0000000e+00]],\n",
       "\n",
       "       [[0.0000000e+00],\n",
       "        [0.0000000e+00],\n",
       "        [0.0000000e+00],\n",
       "        [0.0000000e+00],\n",
       "        [0.0000000e+00],\n",
       "        [0.0000000e+00],\n",
       "        [0.0000000e+00],\n",
       "        [0.0000000e+00],\n",
       "        [0.0000000e+00],\n",
       "        [0.0000000e+00],\n",
       "        [0.0000000e+00],\n",
       "        [2.1530181e-04],\n",
       "        [2.2914265e-03],\n",
       "        [2.9680892e-03],\n",
       "        [7.6893506e-05],\n",
       "        [0.0000000e+00],\n",
       "        [0.0000000e+00],\n",
       "        [0.0000000e+00],\n",
       "        [0.0000000e+00],\n",
       "        [0.0000000e+00],\n",
       "        [0.0000000e+00],\n",
       "        [0.0000000e+00],\n",
       "        [0.0000000e+00],\n",
       "        [0.0000000e+00],\n",
       "        [0.0000000e+00],\n",
       "        [0.0000000e+00],\n",
       "        [0.0000000e+00],\n",
       "        [0.0000000e+00]],\n",
       "\n",
       "       [[0.0000000e+00],\n",
       "        [0.0000000e+00],\n",
       "        [0.0000000e+00],\n",
       "        [0.0000000e+00],\n",
       "        [0.0000000e+00],\n",
       "        [0.0000000e+00],\n",
       "        [0.0000000e+00],\n",
       "        [0.0000000e+00],\n",
       "        [0.0000000e+00],\n",
       "        [0.0000000e+00],\n",
       "        [1.3994618e-03],\n",
       "        [3.4448290e-03],\n",
       "        [3.8908112e-03],\n",
       "        [3.8908112e-03],\n",
       "        [2.9219533e-04],\n",
       "        [0.0000000e+00],\n",
       "        [0.0000000e+00],\n",
       "        [0.0000000e+00],\n",
       "        [0.0000000e+00],\n",
       "        [0.0000000e+00],\n",
       "        [0.0000000e+00],\n",
       "        [0.0000000e+00],\n",
       "        [0.0000000e+00],\n",
       "        [0.0000000e+00],\n",
       "        [0.0000000e+00],\n",
       "        [0.0000000e+00],\n",
       "        [0.0000000e+00],\n",
       "        [0.0000000e+00]],\n",
       "\n",
       "       [[0.0000000e+00],\n",
       "        [0.0000000e+00],\n",
       "        [0.0000000e+00],\n",
       "        [0.0000000e+00],\n",
       "        [0.0000000e+00],\n",
       "        [0.0000000e+00],\n",
       "        [0.0000000e+00],\n",
       "        [0.0000000e+00],\n",
       "        [0.0000000e+00],\n",
       "        [4.3060363e-04],\n",
       "        [3.6139947e-03],\n",
       "        [3.9061899e-03],\n",
       "        [3.8908112e-03],\n",
       "        [3.8908112e-03],\n",
       "        [2.5528644e-03],\n",
       "        [2.7681663e-04],\n",
       "        [0.0000000e+00],\n",
       "        [0.0000000e+00],\n",
       "        [0.0000000e+00],\n",
       "        [0.0000000e+00],\n",
       "        [0.0000000e+00],\n",
       "        [0.0000000e+00],\n",
       "        [0.0000000e+00],\n",
       "        [0.0000000e+00],\n",
       "        [0.0000000e+00],\n",
       "        [0.0000000e+00],\n",
       "        [0.0000000e+00],\n",
       "        [0.0000000e+00]],\n",
       "\n",
       "       [[0.0000000e+00],\n",
       "        [0.0000000e+00],\n",
       "        [0.0000000e+00],\n",
       "        [0.0000000e+00],\n",
       "        [0.0000000e+00],\n",
       "        [0.0000000e+00],\n",
       "        [0.0000000e+00],\n",
       "        [0.0000000e+00],\n",
       "        [0.0000000e+00],\n",
       "        [2.2145330e-03],\n",
       "        [3.8908112e-03],\n",
       "        [3.9061899e-03],\n",
       "        [3.8908112e-03],\n",
       "        [3.8908112e-03],\n",
       "        [3.8908112e-03],\n",
       "        [3.6601308e-03],\n",
       "        [1.7685506e-03],\n",
       "        [9.2272203e-05],\n",
       "        [0.0000000e+00],\n",
       "        [0.0000000e+00],\n",
       "        [0.0000000e+00],\n",
       "        [0.0000000e+00],\n",
       "        [0.0000000e+00],\n",
       "        [0.0000000e+00],\n",
       "        [0.0000000e+00],\n",
       "        [0.0000000e+00],\n",
       "        [0.0000000e+00],\n",
       "        [0.0000000e+00]],\n",
       "\n",
       "       [[0.0000000e+00],\n",
       "        [0.0000000e+00],\n",
       "        [0.0000000e+00],\n",
       "        [0.0000000e+00],\n",
       "        [0.0000000e+00],\n",
       "        [0.0000000e+00],\n",
       "        [0.0000000e+00],\n",
       "        [0.0000000e+00],\n",
       "        [4.7673972e-04],\n",
       "        [3.7062669e-03],\n",
       "        [3.8908112e-03],\n",
       "        [3.1987696e-03],\n",
       "        [2.8450596e-03],\n",
       "        [3.8908112e-03],\n",
       "        [3.8908112e-03],\n",
       "        [3.8908112e-03],\n",
       "        [3.5524799e-03],\n",
       "        [3.6908881e-04],\n",
       "        [0.0000000e+00],\n",
       "        [0.0000000e+00],\n",
       "        [0.0000000e+00],\n",
       "        [0.0000000e+00],\n",
       "        [0.0000000e+00],\n",
       "        [0.0000000e+00],\n",
       "        [0.0000000e+00],\n",
       "        [0.0000000e+00],\n",
       "        [0.0000000e+00],\n",
       "        [0.0000000e+00]],\n",
       "\n",
       "       [[0.0000000e+00],\n",
       "        [0.0000000e+00],\n",
       "        [0.0000000e+00],\n",
       "        [0.0000000e+00],\n",
       "        [0.0000000e+00],\n",
       "        [0.0000000e+00],\n",
       "        [0.0000000e+00],\n",
       "        [0.0000000e+00],\n",
       "        [1.2149174e-03],\n",
       "        [3.9061899e-03],\n",
       "        [2.9680892e-03],\n",
       "        [0.0000000e+00],\n",
       "        [1.2302962e-04],\n",
       "        [1.5071126e-03],\n",
       "        [3.3679355e-03],\n",
       "        [3.9061899e-03],\n",
       "        [3.9215689e-03],\n",
       "        [3.0911188e-03],\n",
       "        [2.7681663e-04],\n",
       "        [0.0000000e+00],\n",
       "        [0.0000000e+00],\n",
       "        [0.0000000e+00],\n",
       "        [0.0000000e+00],\n",
       "        [0.0000000e+00],\n",
       "        [0.0000000e+00],\n",
       "        [0.0000000e+00],\n",
       "        [0.0000000e+00],\n",
       "        [0.0000000e+00]],\n",
       "\n",
       "       [[0.0000000e+00],\n",
       "        [0.0000000e+00],\n",
       "        [0.0000000e+00],\n",
       "        [0.0000000e+00],\n",
       "        [0.0000000e+00],\n",
       "        [0.0000000e+00],\n",
       "        [0.0000000e+00],\n",
       "        [0.0000000e+00],\n",
       "        [1.3225683e-03],\n",
       "        [3.8908112e-03],\n",
       "        [1.2302961e-03],\n",
       "        [0.0000000e+00],\n",
       "        [0.0000000e+00],\n",
       "        [0.0000000e+00],\n",
       "        [2.7989235e-03],\n",
       "        [3.8908112e-03],\n",
       "        [3.9061899e-03],\n",
       "        [2.9373318e-03],\n",
       "        [1.8454441e-04],\n",
       "        [0.0000000e+00],\n",
       "        [0.0000000e+00],\n",
       "        [0.0000000e+00],\n",
       "        [0.0000000e+00],\n",
       "        [0.0000000e+00],\n",
       "        [0.0000000e+00],\n",
       "        [0.0000000e+00],\n",
       "        [0.0000000e+00],\n",
       "        [0.0000000e+00]],\n",
       "\n",
       "       [[0.0000000e+00],\n",
       "        [0.0000000e+00],\n",
       "        [0.0000000e+00],\n",
       "        [0.0000000e+00],\n",
       "        [0.0000000e+00],\n",
       "        [0.0000000e+00],\n",
       "        [0.0000000e+00],\n",
       "        [0.0000000e+00],\n",
       "        [2.6912726e-03],\n",
       "        [3.8908112e-03],\n",
       "        [2.3836987e-03],\n",
       "        [0.0000000e+00],\n",
       "        [0.0000000e+00],\n",
       "        [0.0000000e+00],\n",
       "        [3.5986160e-03],\n",
       "        [3.8908112e-03],\n",
       "        [3.9061899e-03],\n",
       "        [2.0761248e-03],\n",
       "        [0.0000000e+00],\n",
       "        [0.0000000e+00],\n",
       "        [0.0000000e+00],\n",
       "        [0.0000000e+00],\n",
       "        [0.0000000e+00],\n",
       "        [0.0000000e+00],\n",
       "        [0.0000000e+00],\n",
       "        [0.0000000e+00],\n",
       "        [0.0000000e+00],\n",
       "        [0.0000000e+00]],\n",
       "\n",
       "       [[0.0000000e+00],\n",
       "        [0.0000000e+00],\n",
       "        [0.0000000e+00],\n",
       "        [0.0000000e+00],\n",
       "        [0.0000000e+00],\n",
       "        [0.0000000e+00],\n",
       "        [0.0000000e+00],\n",
       "        [0.0000000e+00],\n",
       "        [1.3225683e-03],\n",
       "        [3.8908112e-03],\n",
       "        [3.1987696e-03],\n",
       "        [6.1514805e-04],\n",
       "        [1.3071896e-03],\n",
       "        [2.5528644e-03],\n",
       "        [3.8600538e-03],\n",
       "        [3.6447521e-03],\n",
       "        [3.9061899e-03],\n",
       "        [3.6293734e-03],\n",
       "        [6.4590544e-04],\n",
       "        [0.0000000e+00],\n",
       "        [0.0000000e+00],\n",
       "        [0.0000000e+00],\n",
       "        [0.0000000e+00],\n",
       "        [0.0000000e+00],\n",
       "        [0.0000000e+00],\n",
       "        [0.0000000e+00],\n",
       "        [0.0000000e+00],\n",
       "        [0.0000000e+00]],\n",
       "\n",
       "       [[0.0000000e+00],\n",
       "        [0.0000000e+00],\n",
       "        [0.0000000e+00],\n",
       "        [0.0000000e+00],\n",
       "        [0.0000000e+00],\n",
       "        [0.0000000e+00],\n",
       "        [0.0000000e+00],\n",
       "        [0.0000000e+00],\n",
       "        [2.7681663e-04],\n",
       "        [3.6601308e-03],\n",
       "        [3.8908112e-03],\n",
       "        [3.9061899e-03],\n",
       "        [3.8908112e-03],\n",
       "        [3.8908112e-03],\n",
       "        [2.8450596e-03],\n",
       "        [5.5363326e-04],\n",
       "        [3.3217994e-03],\n",
       "        [3.8908112e-03],\n",
       "        [2.3375626e-03],\n",
       "        [0.0000000e+00],\n",
       "        [0.0000000e+00],\n",
       "        [0.0000000e+00],\n",
       "        [0.0000000e+00],\n",
       "        [0.0000000e+00],\n",
       "        [0.0000000e+00],\n",
       "        [0.0000000e+00],\n",
       "        [0.0000000e+00],\n",
       "        [0.0000000e+00]],\n",
       "\n",
       "       [[0.0000000e+00],\n",
       "        [0.0000000e+00],\n",
       "        [0.0000000e+00],\n",
       "        [0.0000000e+00],\n",
       "        [0.0000000e+00],\n",
       "        [0.0000000e+00],\n",
       "        [0.0000000e+00],\n",
       "        [0.0000000e+00],\n",
       "        [0.0000000e+00],\n",
       "        [1.0457517e-03],\n",
       "        [3.6908882e-03],\n",
       "        [3.9215689e-03],\n",
       "        [3.9061899e-03],\n",
       "        [2.2299117e-03],\n",
       "        [1.2302962e-04],\n",
       "        [0.0000000e+00],\n",
       "        [2.0607461e-03],\n",
       "        [3.9061899e-03],\n",
       "        [3.4294503e-03],\n",
       "        [5.3825456e-04],\n",
       "        [0.0000000e+00],\n",
       "        [0.0000000e+00],\n",
       "        [0.0000000e+00],\n",
       "        [0.0000000e+00],\n",
       "        [0.0000000e+00],\n",
       "        [0.0000000e+00],\n",
       "        [0.0000000e+00],\n",
       "        [0.0000000e+00]],\n",
       "\n",
       "       [[0.0000000e+00],\n",
       "        [0.0000000e+00],\n",
       "        [0.0000000e+00],\n",
       "        [0.0000000e+00],\n",
       "        [0.0000000e+00],\n",
       "        [0.0000000e+00],\n",
       "        [0.0000000e+00],\n",
       "        [0.0000000e+00],\n",
       "        [0.0000000e+00],\n",
       "        [0.0000000e+00],\n",
       "        [1.0457517e-03],\n",
       "        [2.4298348e-03],\n",
       "        [2.1837757e-03],\n",
       "        [1.8454441e-04],\n",
       "        [0.0000000e+00],\n",
       "        [0.0000000e+00],\n",
       "        [1.3840832e-04],\n",
       "        [2.6912726e-03],\n",
       "        [3.8908112e-03],\n",
       "        [2.4759709e-03],\n",
       "        [0.0000000e+00],\n",
       "        [0.0000000e+00],\n",
       "        [0.0000000e+00],\n",
       "        [0.0000000e+00],\n",
       "        [0.0000000e+00],\n",
       "        [0.0000000e+00],\n",
       "        [0.0000000e+00],\n",
       "        [0.0000000e+00]],\n",
       "\n",
       "       [[0.0000000e+00],\n",
       "        [0.0000000e+00],\n",
       "        [0.0000000e+00],\n",
       "        [0.0000000e+00],\n",
       "        [0.0000000e+00],\n",
       "        [0.0000000e+00],\n",
       "        [0.0000000e+00],\n",
       "        [0.0000000e+00],\n",
       "        [0.0000000e+00],\n",
       "        [0.0000000e+00],\n",
       "        [0.0000000e+00],\n",
       "        [0.0000000e+00],\n",
       "        [0.0000000e+00],\n",
       "        [0.0000000e+00],\n",
       "        [0.0000000e+00],\n",
       "        [0.0000000e+00],\n",
       "        [0.0000000e+00],\n",
       "        [1.3533257e-03],\n",
       "        [3.8908112e-03],\n",
       "        [3.4755864e-03],\n",
       "        [2.7681663e-04],\n",
       "        [0.0000000e+00],\n",
       "        [0.0000000e+00],\n",
       "        [0.0000000e+00],\n",
       "        [0.0000000e+00],\n",
       "        [0.0000000e+00],\n",
       "        [0.0000000e+00],\n",
       "        [0.0000000e+00]],\n",
       "\n",
       "       [[0.0000000e+00],\n",
       "        [0.0000000e+00],\n",
       "        [0.0000000e+00],\n",
       "        [0.0000000e+00],\n",
       "        [0.0000000e+00],\n",
       "        [0.0000000e+00],\n",
       "        [0.0000000e+00],\n",
       "        [0.0000000e+00],\n",
       "        [0.0000000e+00],\n",
       "        [0.0000000e+00],\n",
       "        [0.0000000e+00],\n",
       "        [0.0000000e+00],\n",
       "        [0.0000000e+00],\n",
       "        [0.0000000e+00],\n",
       "        [0.0000000e+00],\n",
       "        [0.0000000e+00],\n",
       "        [0.0000000e+00],\n",
       "        [3.0757405e-05],\n",
       "        [2.5528644e-03],\n",
       "        [3.8908112e-03],\n",
       "        [1.9377163e-03],\n",
       "        [0.0000000e+00],\n",
       "        [0.0000000e+00],\n",
       "        [0.0000000e+00],\n",
       "        [0.0000000e+00],\n",
       "        [0.0000000e+00],\n",
       "        [0.0000000e+00],\n",
       "        [0.0000000e+00]],\n",
       "\n",
       "       [[0.0000000e+00],\n",
       "        [0.0000000e+00],\n",
       "        [0.0000000e+00],\n",
       "        [0.0000000e+00],\n",
       "        [0.0000000e+00],\n",
       "        [0.0000000e+00],\n",
       "        [0.0000000e+00],\n",
       "        [0.0000000e+00],\n",
       "        [0.0000000e+00],\n",
       "        [0.0000000e+00],\n",
       "        [0.0000000e+00],\n",
       "        [0.0000000e+00],\n",
       "        [0.0000000e+00],\n",
       "        [0.0000000e+00],\n",
       "        [0.0000000e+00],\n",
       "        [0.0000000e+00],\n",
       "        [0.0000000e+00],\n",
       "        [0.0000000e+00],\n",
       "        [7.3817762e-04],\n",
       "        [3.7677817e-03],\n",
       "        [3.8908112e-03],\n",
       "        [5.8439065e-04],\n",
       "        [0.0000000e+00],\n",
       "        [0.0000000e+00],\n",
       "        [0.0000000e+00],\n",
       "        [0.0000000e+00],\n",
       "        [0.0000000e+00],\n",
       "        [0.0000000e+00]],\n",
       "\n",
       "       [[0.0000000e+00],\n",
       "        [0.0000000e+00],\n",
       "        [0.0000000e+00],\n",
       "        [0.0000000e+00],\n",
       "        [0.0000000e+00],\n",
       "        [0.0000000e+00],\n",
       "        [0.0000000e+00],\n",
       "        [0.0000000e+00],\n",
       "        [0.0000000e+00],\n",
       "        [0.0000000e+00],\n",
       "        [0.0000000e+00],\n",
       "        [0.0000000e+00],\n",
       "        [0.0000000e+00],\n",
       "        [0.0000000e+00],\n",
       "        [0.0000000e+00],\n",
       "        [0.0000000e+00],\n",
       "        [0.0000000e+00],\n",
       "        [0.0000000e+00],\n",
       "        [0.0000000e+00],\n",
       "        [1.7685506e-03],\n",
       "        [3.9061899e-03],\n",
       "        [2.6451366e-03],\n",
       "        [1.3840832e-04],\n",
       "        [0.0000000e+00],\n",
       "        [0.0000000e+00],\n",
       "        [0.0000000e+00],\n",
       "        [0.0000000e+00],\n",
       "        [0.0000000e+00]],\n",
       "\n",
       "       [[0.0000000e+00],\n",
       "        [0.0000000e+00],\n",
       "        [0.0000000e+00],\n",
       "        [0.0000000e+00],\n",
       "        [0.0000000e+00],\n",
       "        [0.0000000e+00],\n",
       "        [0.0000000e+00],\n",
       "        [0.0000000e+00],\n",
       "        [0.0000000e+00],\n",
       "        [0.0000000e+00],\n",
       "        [0.0000000e+00],\n",
       "        [0.0000000e+00],\n",
       "        [0.0000000e+00],\n",
       "        [0.0000000e+00],\n",
       "        [0.0000000e+00],\n",
       "        [0.0000000e+00],\n",
       "        [0.0000000e+00],\n",
       "        [0.0000000e+00],\n",
       "        [0.0000000e+00],\n",
       "        [3.2295272e-04],\n",
       "        [3.3525568e-03],\n",
       "        [3.9061899e-03],\n",
       "        [7.0742023e-04],\n",
       "        [0.0000000e+00],\n",
       "        [0.0000000e+00],\n",
       "        [0.0000000e+00],\n",
       "        [0.0000000e+00],\n",
       "        [0.0000000e+00]],\n",
       "\n",
       "       [[0.0000000e+00],\n",
       "        [0.0000000e+00],\n",
       "        [0.0000000e+00],\n",
       "        [0.0000000e+00],\n",
       "        [0.0000000e+00],\n",
       "        [0.0000000e+00],\n",
       "        [0.0000000e+00],\n",
       "        [0.0000000e+00],\n",
       "        [0.0000000e+00],\n",
       "        [0.0000000e+00],\n",
       "        [0.0000000e+00],\n",
       "        [0.0000000e+00],\n",
       "        [0.0000000e+00],\n",
       "        [0.0000000e+00],\n",
       "        [0.0000000e+00],\n",
       "        [0.0000000e+00],\n",
       "        [0.0000000e+00],\n",
       "        [0.0000000e+00],\n",
       "        [0.0000000e+00],\n",
       "        [0.0000000e+00],\n",
       "        [4.6136102e-04],\n",
       "        [3.9061899e-03],\n",
       "        [2.5374857e-03],\n",
       "        [0.0000000e+00],\n",
       "        [0.0000000e+00],\n",
       "        [0.0000000e+00],\n",
       "        [0.0000000e+00],\n",
       "        [0.0000000e+00]],\n",
       "\n",
       "       [[0.0000000e+00],\n",
       "        [0.0000000e+00],\n",
       "        [0.0000000e+00],\n",
       "        [0.0000000e+00],\n",
       "        [0.0000000e+00],\n",
       "        [0.0000000e+00],\n",
       "        [0.0000000e+00],\n",
       "        [0.0000000e+00],\n",
       "        [0.0000000e+00],\n",
       "        [0.0000000e+00],\n",
       "        [0.0000000e+00],\n",
       "        [0.0000000e+00],\n",
       "        [0.0000000e+00],\n",
       "        [0.0000000e+00],\n",
       "        [0.0000000e+00],\n",
       "        [0.0000000e+00],\n",
       "        [0.0000000e+00],\n",
       "        [0.0000000e+00],\n",
       "        [0.0000000e+00],\n",
       "        [0.0000000e+00],\n",
       "        [0.0000000e+00],\n",
       "        [2.8604383e-03],\n",
       "        [3.7524030e-03],\n",
       "        [6.4590544e-04],\n",
       "        [0.0000000e+00],\n",
       "        [0.0000000e+00],\n",
       "        [0.0000000e+00],\n",
       "        [0.0000000e+00]],\n",
       "\n",
       "       [[0.0000000e+00],\n",
       "        [0.0000000e+00],\n",
       "        [0.0000000e+00],\n",
       "        [0.0000000e+00],\n",
       "        [0.0000000e+00],\n",
       "        [0.0000000e+00],\n",
       "        [0.0000000e+00],\n",
       "        [0.0000000e+00],\n",
       "        [0.0000000e+00],\n",
       "        [0.0000000e+00],\n",
       "        [0.0000000e+00],\n",
       "        [0.0000000e+00],\n",
       "        [0.0000000e+00],\n",
       "        [0.0000000e+00],\n",
       "        [0.0000000e+00],\n",
       "        [0.0000000e+00],\n",
       "        [0.0000000e+00],\n",
       "        [0.0000000e+00],\n",
       "        [0.0000000e+00],\n",
       "        [0.0000000e+00],\n",
       "        [0.0000000e+00],\n",
       "        [2.1530181e-04],\n",
       "        [3.4294503e-03],\n",
       "        [1.1995387e-03],\n",
       "        [0.0000000e+00],\n",
       "        [0.0000000e+00],\n",
       "        [0.0000000e+00],\n",
       "        [0.0000000e+00]],\n",
       "\n",
       "       [[0.0000000e+00],\n",
       "        [0.0000000e+00],\n",
       "        [0.0000000e+00],\n",
       "        [0.0000000e+00],\n",
       "        [0.0000000e+00],\n",
       "        [0.0000000e+00],\n",
       "        [0.0000000e+00],\n",
       "        [0.0000000e+00],\n",
       "        [0.0000000e+00],\n",
       "        [0.0000000e+00],\n",
       "        [0.0000000e+00],\n",
       "        [0.0000000e+00],\n",
       "        [0.0000000e+00],\n",
       "        [0.0000000e+00],\n",
       "        [0.0000000e+00],\n",
       "        [0.0000000e+00],\n",
       "        [0.0000000e+00],\n",
       "        [0.0000000e+00],\n",
       "        [0.0000000e+00],\n",
       "        [0.0000000e+00],\n",
       "        [0.0000000e+00],\n",
       "        [0.0000000e+00],\n",
       "        [0.0000000e+00],\n",
       "        [0.0000000e+00],\n",
       "        [0.0000000e+00],\n",
       "        [0.0000000e+00],\n",
       "        [0.0000000e+00],\n",
       "        [0.0000000e+00]],\n",
       "\n",
       "       [[0.0000000e+00],\n",
       "        [0.0000000e+00],\n",
       "        [0.0000000e+00],\n",
       "        [0.0000000e+00],\n",
       "        [0.0000000e+00],\n",
       "        [0.0000000e+00],\n",
       "        [0.0000000e+00],\n",
       "        [0.0000000e+00],\n",
       "        [0.0000000e+00],\n",
       "        [0.0000000e+00],\n",
       "        [0.0000000e+00],\n",
       "        [0.0000000e+00],\n",
       "        [0.0000000e+00],\n",
       "        [0.0000000e+00],\n",
       "        [0.0000000e+00],\n",
       "        [0.0000000e+00],\n",
       "        [0.0000000e+00],\n",
       "        [0.0000000e+00],\n",
       "        [0.0000000e+00],\n",
       "        [0.0000000e+00],\n",
       "        [0.0000000e+00],\n",
       "        [0.0000000e+00],\n",
       "        [0.0000000e+00],\n",
       "        [0.0000000e+00],\n",
       "        [0.0000000e+00],\n",
       "        [0.0000000e+00],\n",
       "        [0.0000000e+00],\n",
       "        [0.0000000e+00]]], dtype=float32)"
      ]
     },
     "execution_count": 62,
     "metadata": {},
     "output_type": "execute_result"
    }
   ],
   "source": [
    "query"
   ]
  },
  {
   "cell_type": "code",
   "execution_count": 33,
   "metadata": {},
   "outputs": [
    {
     "data": {
      "text/plain": [
       "<matplotlib.image.AxesImage at 0x14caf7650f0>"
      ]
     },
     "execution_count": 33,
     "metadata": {},
     "output_type": "execute_result"
    },
    {
     "data": {
      "image/png": "[encoded data removed]",
      "text/plain": [
       "<matplotlib.figure.Figure at 0x14caf8853c8>"
      ]
     },
     "metadata": {},
     "output_type": "display_data"
    }
   ],
   "source": [
    "plt.imshow(query.reshape(28,28), cmap='gray')"
   ]
  },
  {
   "cell_type": "markdown",
   "metadata": {},
   "source": [
    "# Encode the test images and the query image"
   ]
  },
  {
   "cell_type": "code",
   "execution_count": 34,
   "metadata": {},
   "outputs": [
    {
     "data": {
      "text/plain": [
       "(10000, 28, 28, 1)"
      ]
     },
     "execution_count": 34,
     "metadata": {},
     "output_type": "execute_result"
    }
   ],
   "source": [
    "X_test.shape"
   ]
  },
  {
   "cell_type": "markdown",
   "metadata": {},
   "source": [
    "We remove the query image from the test set (the set in which we will search for close images)"
   ]
  },
  {
   "cell_type": "code",
   "execution_count": 35,
   "metadata": {
    "collapsed": true
   },
   "outputs": [],
   "source": [
    "X_test = np.delete(X_test, 7, axis=0)"
   ]
  },
  {
   "cell_type": "code",
   "execution_count": 36,
   "metadata": {},
   "outputs": [
    {
     "data": {
      "text/plain": [
       "(9999, 28, 28, 1)"
      ]
     },
     "execution_count": 36,
     "metadata": {},
     "output_type": "execute_result"
    }
   ],
   "source": [
    "X_test.shape"
   ]
  },
  {
   "cell_type": "markdown",
   "metadata": {},
   "source": [
    "# Encode the query image and the test set"
   ]
  },
  {
   "cell_type": "code",
   "execution_count": 38,
   "metadata": {
    "collapsed": true
   },
   "outputs": [],
   "source": [
    "codes = encoder.predict(X_test)"
   ]
  },
  {
   "cell_type": "code",
   "execution_count": 40,
   "metadata": {
    "collapsed": true
   },
   "outputs": [],
   "source": [
    "query_code = encoder.predict(query.reshape(1,28,28,1))"
   ]
  },
  {
   "cell_type": "code",
   "execution_count": 41,
   "metadata": {},
   "outputs": [
    {
     "data": {
      "text/plain": [
       "((9999, 4, 4, 8), (1, 4, 4, 8))"
      ]
     },
     "execution_count": 41,
     "metadata": {},
     "output_type": "execute_result"
    }
   ],
   "source": [
    "codes.shape,query_code.shape"
   ]
  },
  {
   "cell_type": "code",
   "execution_count": 63,
   "metadata": {},
   "outputs": [
    {
     "data": {
      "text/plain": [
       "(1, 128)"
      ]
     },
     "execution_count": 63,
     "metadata": {},
     "output_type": "execute_result"
    }
   ],
   "source": [
    "query_code.shape"
   ]
  },
  {
   "cell_type": "code",
   "execution_count": 60,
   "metadata": {},
   "outputs": [
    {
     "data": {
      "text/plain": [
       "array([[0.5198475 , 0.08896601, 0.9492    , 1.0404446 , 0.99167734,\n",
       "        0.5058188 , 0.        , 1.5764164 , 0.5106403 , 0.08991284,\n",
       "        0.93966514, 1.0433472 , 0.9966842 , 0.5026657 , 0.        ,\n",
       "        1.5728695 , 0.5098872 , 0.09022792, 0.9359039 , 1.0392988 ,\n",
       "        0.9938914 , 0.5012397 , 0.        , 1.561357  , 0.3452297 ,\n",
       "        0.11129037, 0.6750804 , 0.6340816 , 0.6434199 , 0.34784275,\n",
       "        0.06338744, 0.9475989 , 0.46744636, 0.        , 0.94489604,\n",
       "        1.0466547 , 0.9931808 , 0.43953073, 0.        , 1.5717359 ,\n",
       "        0.45733216, 0.        , 0.94123214, 1.0494044 , 1.0015339 ,\n",
       "        0.41491818, 0.        , 1.57471   , 0.455988  , 0.        ,\n",
       "        0.9374564 , 1.0435294 , 0.9954705 , 0.41062987, 0.        ,\n",
       "        1.5649655 , 0.23031415, 0.        , 0.67398   , 0.6347029 ,\n",
       "        0.6433506 , 0.19897181, 0.03254183, 0.9431616 , 0.46588948,\n",
       "        0.        , 0.941392  , 1.0440037 , 0.99178404, 0.43889606,\n",
       "        0.        , 1.5644182 , 0.4539101 , 0.        , 0.93540496,\n",
       "        1.0446026 , 0.99787027, 0.4086474 , 0.        , 1.5696038 ,\n",
       "        0.4533254 , 0.        , 0.9371482 , 1.0421141 , 0.99573845,\n",
       "        0.40796602, 0.        , 1.5681483 , 0.231294  , 0.        ,\n",
       "        0.6764081 , 0.6371155 , 0.6457798 , 0.19934736, 0.03283351,\n",
       "        0.94569707, 0.2510718 , 0.        , 0.4180229 , 0.62721837,\n",
       "        0.7605708 , 0.23419623, 0.        , 0.97798514, 0.24687558,\n",
       "        0.        , 0.40914735, 0.6306902 , 0.7611082 , 0.06383552,\n",
       "        0.        , 0.9811477 , 0.24672182, 0.        , 0.41282415,\n",
       "        0.6329657 , 0.76428753, 0.06464902, 0.        , 0.98723036,\n",
       "        0.04936704, 0.        , 0.33767968, 0.37366095, 0.41475254,\n",
       "        0.        , 0.03822808, 0.66050017]], dtype=float32)"
      ]
     },
     "execution_count": 60,
     "metadata": {},
     "output_type": "execute_result"
    }
   ],
   "source": [
    "query_code"
   ]
  },
  {
   "cell_type": "markdown",
   "metadata": {},
   "source": [
    "# Find the closest images"
   ]
  },
  {
   "cell_type": "code",
   "execution_count": 43,
   "metadata": {
    "collapsed": true
   },
   "outputs": [],
   "source": [
    "from sklearn.neighbors import NearestNeighbors"
   ]
  },
  {
   "cell_type": "markdown",
   "metadata": {},
   "source": [
    "We will find the 5 closest images"
   ]
  },
  {
   "cell_type": "code",
   "execution_count": 44,
   "metadata": {
    "collapsed": true
   },
   "outputs": [],
   "source": [
    "n_neigh = 5"
   ]
  },
  {
   "cell_type": "code",
   "execution_count": 45,
   "metadata": {},
   "outputs": [
    {
     "name": "stdout",
     "output_type": "stream",
     "text": [
      "(9999, 128)\n",
      "(1, 128)\n"
     ]
    }
   ],
   "source": [
    "codes = codes.reshape(-1, 4*4*8); print(codes.shape)\n",
    "query_code = query_code.reshape(1, 4*4*8); print(query_code.shape)"
   ]
  },
  {
   "cell_type": "markdown",
   "metadata": {},
   "source": [
    "# Fit the KNN to the test set"
   ]
  },
  {
   "cell_type": "code",
   "execution_count": 47,
   "metadata": {
    "collapsed": true
   },
   "outputs": [],
   "source": [
    "nbrs = NearestNeighbors(n_neighbors=n_neigh).fit(codes)"
   ]
  },
  {
   "cell_type": "code",
   "execution_count": 48,
   "metadata": {
    "collapsed": true
   },
   "outputs": [],
   "source": [
    "distances, indices = nbrs.kneighbors(np.array(query_code))"
   ]
  },
  {
   "cell_type": "code",
   "execution_count": 49,
   "metadata": {
    "collapsed": true
   },
   "outputs": [],
   "source": [
    "closest_images = X_test[indices]"
   ]
  },
  {
   "cell_type": "code",
   "execution_count": 50,
   "metadata": {},
   "outputs": [
    {
     "name": "stdout",
     "output_type": "stream",
     "text": [
      "(5, 28, 28, 1)\n"
     ]
    }
   ],
   "source": [
    "closest_images = closest_images.reshape(-1,28,28,1); print(closest_images.shape)"
   ]
  },
  {
   "cell_type": "markdown",
   "metadata": {},
   "source": [
    "# Get the closest images"
   ]
  },
  {
   "cell_type": "code",
   "execution_count": 51,
   "metadata": {},
   "outputs": [
    {
     "data": {
      "text/plain": [
       "<matplotlib.image.AxesImage at 0x14cb445b8d0>"
      ]
     },
     "execution_count": 51,
     "metadata": {},
     "output_type": "execute_result"
    },
    {
     "data": {
      "image/png": "[encoded data removed]",
      "text/plain": [
       "<matplotlib.figure.Figure at 0x14cb42cea20>"
      ]
     },
     "metadata": {},
     "output_type": "display_data"
    }
   ],
   "source": [
    "plt.imshow(query.reshape(28,28), cmap='gray')"
   ]
  },
  {
   "cell_type": "code",
   "execution_count": 52,
   "metadata": {},
   "outputs": [
    {
     "data": {
      "image/png": "[encoded data removed]",
      "text/plain": [
       "<matplotlib.figure.Figure at 0x14cb42ce8d0>"
      ]
     },
     "metadata": {},
     "output_type": "display_data"
    }
   ],
   "source": [
    "plt.figure(figsize=(20, 6))\n",
    "for i in range(n_neigh):\n",
    "    # display original\n",
    "    ax = plt.subplot(1, n_neigh, i+1)\n",
    "    plt.imshow(closest_images[i].reshape(28, 28))\n",
    "    plt.gray()\n",
    "    ax.get_xaxis().set_visible(False)\n",
    "    ax.get_yaxis().set_visible(False)\n",
    "    \n",
    "plt.show()"
   ]
  }
 ],
 "metadata": {
  "kernelspec": {
   "display_name": "Python 3",
   "language": "python",
   "name": "python3"
  },
  "language_info": {
   "codemirror_mode": {
    "name": "ipython",
    "version": 3
   },
   "file_extension": ".py",
   "mimetype": "text/x-python",
   "name": "python",
   "nbconvert_exporter": "python",
   "pygments_lexer": "ipython3",
   "version": "3.6.3"
  }
 },
 "nbformat": 4,
 "nbformat_minor": 2
}
